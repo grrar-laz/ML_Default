{
 "cells": [
  {
   "cell_type": "markdown",
   "metadata": {},
   "source": [
    "# 介绍 <a id = '1'>\n",
    "\n",
    ">此部分为探索性分析，主要目的是了解数据，熟悉数据，为后续的特征工程做准备。\n",
    "\n",
    "**目的：**\n",
    "- 1.EDA价值主要在于熟悉了解整个数据集的基本情况（缺失值，异常值），对数据集进行验证是否可以进行接下来的机器学习或者深度学习建模.\n",
    "\n",
    "- 2.了解变量间的相互关系、变量与预测值之间的存在关系。\n",
    "\n",
    "- 3.为特征工程做准备\n",
    "\n",
    "**主要内容：**\n",
    "- 数据总体了解：\n",
    "  - 读取数据集并了解数据集大小，原始特征维度；\n",
    "  - 通过info熟悉数据类型；\n",
    "  - 粗略查看数据集中各特征基本统计量；\n",
    "- 缺失值和唯一值：\n",
    "  - 查看数据缺失值情况\n",
    "  - 查看唯一值特征情况\n",
    "- 深入数据-查看数据类型\n",
    "  - 类别型数据\n",
    "  - 数值型数据\n",
    "    - 离散数值型数据\n",
    "    - 连续数值型数据\n",
    "- 数据间相关关系\n",
    "  - 特征和特征之间关系\n",
    "  - 特征和目标变量之间关系\n",
    "- 用pandas_profiling生成数据报告\n",
    "\n",
    "\n",
    "**文件说明：**\n",
    "\n",
    "数据来源为“天池”的学习赛：*零基础入门金融风控-贷款违约预测*\n",
    "\n",
    "以下代码主要参考该比赛的开源代码\n",
    "\n",
    "比赛项目地址：https://tianchi.aliyun.com/competition/entrance/531830/forum\n",
    "\n",
    "开源地址：https://tianchi.aliyun.com/notebook-ai/detail?spm=5176.12586969.1002.6.3b3022faPv9qKZ&postId=129320\n",
    "\n",
    "   "
   ]
  },
  {
   "cell_type": "markdown",
   "metadata": {},
   "source": [
    "# 数据概览 <a id = '2'>"
   ]
  },
  {
   "cell_type": "code",
   "execution_count": 1,
   "metadata": {},
   "outputs": [],
   "source": [
    "# 导入数据分析及可视化过程需要的库\n",
    "import pandas as pd\n",
    "import numpy as np\n",
    "import matplotlib.pyplot as plt\n",
    "import seaborn as sns\n",
    "import datetime\n",
    "import warnings\n",
    "warnings.filterwarnings('ignore')"
   ]
  },
  {
   "cell_type": "markdown",
   "metadata": {
    "jp-MarkdownHeadingCollapsed": true,
    "tags": []
   },
   "source": [
    "**说明：**\n",
    "\n",
    "本次数据分析探索，尤其可视化部分均选取某些特定变量进行了举例，所以它只是一个方法的展示而不是整个数据分析的解决方案。"
   ]
  },
  {
   "cell_type": "markdown",
   "metadata": {},
   "source": [
    "## 读取文件 <a id = '2.1'>"
   ]
  },
  {
   "cell_type": "code",
   "execution_count": 2,
   "metadata": {},
   "outputs": [],
   "source": [
    "#读取文件,注意数据存储的路径\n",
    "data = pd.read_csv('train.csv')"
   ]
  },
  {
   "cell_type": "code",
   "execution_count": 3,
   "metadata": {},
   "outputs": [
    {
     "data": {
      "text/html": [
       "<div>\n",
       "<style scoped>\n",
       "    .dataframe tbody tr th:only-of-type {\n",
       "        vertical-align: middle;\n",
       "    }\n",
       "\n",
       "    .dataframe tbody tr th {\n",
       "        vertical-align: top;\n",
       "    }\n",
       "\n",
       "    .dataframe thead th {\n",
       "        text-align: right;\n",
       "    }\n",
       "</style>\n",
       "<table border=\"1\" class=\"dataframe\">\n",
       "  <thead>\n",
       "    <tr style=\"text-align: right;\">\n",
       "      <th></th>\n",
       "      <th>id</th>\n",
       "      <th>loanAmnt</th>\n",
       "      <th>term</th>\n",
       "      <th>interestRate</th>\n",
       "      <th>installment</th>\n",
       "      <th>grade</th>\n",
       "      <th>subGrade</th>\n",
       "      <th>employmentTitle</th>\n",
       "      <th>employmentLength</th>\n",
       "      <th>homeOwnership</th>\n",
       "      <th>...</th>\n",
       "      <th>n5</th>\n",
       "      <th>n6</th>\n",
       "      <th>n7</th>\n",
       "      <th>n8</th>\n",
       "      <th>n9</th>\n",
       "      <th>n10</th>\n",
       "      <th>n11</th>\n",
       "      <th>n12</th>\n",
       "      <th>n13</th>\n",
       "      <th>n14</th>\n",
       "    </tr>\n",
       "  </thead>\n",
       "  <tbody>\n",
       "    <tr>\n",
       "      <th>0</th>\n",
       "      <td>0</td>\n",
       "      <td>35000.0</td>\n",
       "      <td>5</td>\n",
       "      <td>19.52</td>\n",
       "      <td>917.97</td>\n",
       "      <td>E</td>\n",
       "      <td>E2</td>\n",
       "      <td>320.0</td>\n",
       "      <td>2 years</td>\n",
       "      <td>2</td>\n",
       "      <td>...</td>\n",
       "      <td>9.0</td>\n",
       "      <td>8.0</td>\n",
       "      <td>4.0</td>\n",
       "      <td>12.0</td>\n",
       "      <td>2.0</td>\n",
       "      <td>7.0</td>\n",
       "      <td>0.0</td>\n",
       "      <td>0.0</td>\n",
       "      <td>0.0</td>\n",
       "      <td>2.0</td>\n",
       "    </tr>\n",
       "    <tr>\n",
       "      <th>1</th>\n",
       "      <td>1</td>\n",
       "      <td>18000.0</td>\n",
       "      <td>5</td>\n",
       "      <td>18.49</td>\n",
       "      <td>461.90</td>\n",
       "      <td>D</td>\n",
       "      <td>D2</td>\n",
       "      <td>219843.0</td>\n",
       "      <td>5 years</td>\n",
       "      <td>0</td>\n",
       "      <td>...</td>\n",
       "      <td>NaN</td>\n",
       "      <td>NaN</td>\n",
       "      <td>NaN</td>\n",
       "      <td>NaN</td>\n",
       "      <td>NaN</td>\n",
       "      <td>13.0</td>\n",
       "      <td>NaN</td>\n",
       "      <td>NaN</td>\n",
       "      <td>NaN</td>\n",
       "      <td>NaN</td>\n",
       "    </tr>\n",
       "    <tr>\n",
       "      <th>2</th>\n",
       "      <td>2</td>\n",
       "      <td>12000.0</td>\n",
       "      <td>5</td>\n",
       "      <td>16.99</td>\n",
       "      <td>298.17</td>\n",
       "      <td>D</td>\n",
       "      <td>D3</td>\n",
       "      <td>31698.0</td>\n",
       "      <td>8 years</td>\n",
       "      <td>0</td>\n",
       "      <td>...</td>\n",
       "      <td>0.0</td>\n",
       "      <td>21.0</td>\n",
       "      <td>4.0</td>\n",
       "      <td>5.0</td>\n",
       "      <td>3.0</td>\n",
       "      <td>11.0</td>\n",
       "      <td>0.0</td>\n",
       "      <td>0.0</td>\n",
       "      <td>0.0</td>\n",
       "      <td>4.0</td>\n",
       "    </tr>\n",
       "    <tr>\n",
       "      <th>3</th>\n",
       "      <td>3</td>\n",
       "      <td>11000.0</td>\n",
       "      <td>3</td>\n",
       "      <td>7.26</td>\n",
       "      <td>340.96</td>\n",
       "      <td>A</td>\n",
       "      <td>A4</td>\n",
       "      <td>46854.0</td>\n",
       "      <td>10+ years</td>\n",
       "      <td>1</td>\n",
       "      <td>...</td>\n",
       "      <td>16.0</td>\n",
       "      <td>4.0</td>\n",
       "      <td>7.0</td>\n",
       "      <td>21.0</td>\n",
       "      <td>6.0</td>\n",
       "      <td>9.0</td>\n",
       "      <td>0.0</td>\n",
       "      <td>0.0</td>\n",
       "      <td>0.0</td>\n",
       "      <td>1.0</td>\n",
       "    </tr>\n",
       "    <tr>\n",
       "      <th>4</th>\n",
       "      <td>4</td>\n",
       "      <td>3000.0</td>\n",
       "      <td>3</td>\n",
       "      <td>12.99</td>\n",
       "      <td>101.07</td>\n",
       "      <td>C</td>\n",
       "      <td>C2</td>\n",
       "      <td>54.0</td>\n",
       "      <td>NaN</td>\n",
       "      <td>1</td>\n",
       "      <td>...</td>\n",
       "      <td>4.0</td>\n",
       "      <td>9.0</td>\n",
       "      <td>10.0</td>\n",
       "      <td>15.0</td>\n",
       "      <td>7.0</td>\n",
       "      <td>12.0</td>\n",
       "      <td>0.0</td>\n",
       "      <td>0.0</td>\n",
       "      <td>0.0</td>\n",
       "      <td>4.0</td>\n",
       "    </tr>\n",
       "  </tbody>\n",
       "</table>\n",
       "<p>5 rows × 47 columns</p>\n",
       "</div>"
      ],
      "text/plain": [
       "   id  loanAmnt  term  interestRate  installment grade subGrade  \\\n",
       "0   0   35000.0     5         19.52       917.97     E       E2   \n",
       "1   1   18000.0     5         18.49       461.90     D       D2   \n",
       "2   2   12000.0     5         16.99       298.17     D       D3   \n",
       "3   3   11000.0     3          7.26       340.96     A       A4   \n",
       "4   4    3000.0     3         12.99       101.07     C       C2   \n",
       "\n",
       "   employmentTitle employmentLength  homeOwnership  ...    n5    n6    n7  \\\n",
       "0            320.0          2 years              2  ...   9.0   8.0   4.0   \n",
       "1         219843.0          5 years              0  ...   NaN   NaN   NaN   \n",
       "2          31698.0          8 years              0  ...   0.0  21.0   4.0   \n",
       "3          46854.0        10+ years              1  ...  16.0   4.0   7.0   \n",
       "4             54.0              NaN              1  ...   4.0   9.0  10.0   \n",
       "\n",
       "     n8   n9   n10  n11  n12  n13  n14  \n",
       "0  12.0  2.0   7.0  0.0  0.0  0.0  2.0  \n",
       "1   NaN  NaN  13.0  NaN  NaN  NaN  NaN  \n",
       "2   5.0  3.0  11.0  0.0  0.0  0.0  4.0  \n",
       "3  21.0  6.0   9.0  0.0  0.0  0.0  1.0  \n",
       "4  15.0  7.0  12.0  0.0  0.0  0.0  4.0  \n",
       "\n",
       "[5 rows x 47 columns]"
      ]
     },
     "execution_count": 3,
     "metadata": {},
     "output_type": "execute_result"
    }
   ],
   "source": [
    "#查看数据的前5行\n",
    "data.head()"
   ]
  },
  {
   "cell_type": "markdown",
   "metadata": {},
   "source": [
    "## 查看数据集的基本信息  <a id = '2.2'>"
   ]
  },
  {
   "cell_type": "code",
   "execution_count": 4,
   "metadata": {},
   "outputs": [
    {
     "data": {
      "text/plain": [
       "(800000, 47)"
      ]
     },
     "execution_count": 4,
     "metadata": {},
     "output_type": "execute_result"
    }
   ],
   "source": [
    "#使用shape函数查看数据集的形状\n",
    "data.shape"
   ]
  },
  {
   "cell_type": "markdown",
   "metadata": {},
   "source": [
    "该数据集拥有80万条样本,47个特征"
   ]
  },
  {
   "cell_type": "code",
   "execution_count": 5,
   "metadata": {},
   "outputs": [
    {
     "data": {
      "text/plain": [
       "Index(['id', 'loanAmnt', 'term', 'interestRate', 'installment', 'grade',\n",
       "       'subGrade', 'employmentTitle', 'employmentLength', 'homeOwnership',\n",
       "       'annualIncome', 'verificationStatus', 'issueDate', 'isDefault',\n",
       "       'purpose', 'postCode', 'regionCode', 'dti', 'delinquency_2years',\n",
       "       'ficoRangeLow', 'ficoRangeHigh', 'openAcc', 'pubRec',\n",
       "       'pubRecBankruptcies', 'revolBal', 'revolUtil', 'totalAcc',\n",
       "       'initialListStatus', 'applicationType', 'earliesCreditLine', 'title',\n",
       "       'policyCode', 'n0', 'n1', 'n2', 'n3', 'n4', 'n5', 'n6', 'n7', 'n8',\n",
       "       'n9', 'n10', 'n11', 'n12', 'n13', 'n14'],\n",
       "      dtype='object')"
      ]
     },
     "execution_count": 5,
     "metadata": {},
     "output_type": "execute_result"
    }
   ],
   "source": [
    "#查看一下具体的列名\n",
    "data.columns"
   ]
  },
  {
   "cell_type": "markdown",
   "metadata": {},
   "source": [
    "这里简单说明一下各列所表示的特征含义：\n",
    "- id:为贷款清单分配的唯一信用证标识\n",
    "- loanAmnt:贷款金额\n",
    "- term:贷款期限（year）\n",
    "- interestRate:贷款利率\n",
    "- installment:分期付款金额\n",
    "- grade:贷款等级\n",
    "- subGrade:贷款等级之子级\n",
    "- employmentTitle:就业职称\n",
    "- employmentLength:就业年限（年）\n",
    "- homeOwnership:借款人在登记时提供的房屋所有权状况\n",
    "- annualIncome:年收入\n",
    "- verificationStatus:验证状态\n",
    "- issueDate:贷款发放的月份\n",
    "- purpose:借款人在贷款申请时的贷款用途类别\n",
    "- postCode:借款人在贷款申请中提供的邮政编码的前3位数字\n",
    "- regionCode:地区编码\n",
    "- dti:债务收入比\n",
    "- delinquency_2years:借款人过去2年信用档案中逾期30天以上的违约事件数\n",
    "- ficoRangeLow:借款人在贷款发放时的fico所属的下限范围\n",
    "- ficoRangeHigh:借款人在贷款发放时的fico所属的上限范围\n",
    "- openAcc:借款人信用档案中未结信用额度的数量\n",
    "- pubRec:贬损公共记录的数量\n",
    "- pubRecBankruptcies:公开记录清除的数量\n",
    "- revolBal:信贷周转余额合计\n",
    "- revolUtil:循环额度利用率，或借款人使用的相对于所有可用循环信贷的信贷金额\n",
    "- totalAcc:借款人信用档案中当前的信用额度总数\n",
    "- initialListStatus:贷款的初始列表状态\n",
    "- applicationType:表明贷款是个人申请还是与两个共同借款人的联合申请\n",
    "- earliesCreditLine:借款人最早报告的信用额度开立的月份\n",
    "- title:借款人提供的贷款名称\n",
    "- policyCode:公开可用的策略_代码=1新产品不公开可用的策略_代码=2\n",
    "- n系列匿名特征:匿名特征n0-n14，为一些贷款人行为计数特征的处理"
   ]
  },
  {
   "cell_type": "code",
   "execution_count": 6,
   "metadata": {
    "scrolled": true,
    "tags": []
   },
   "outputs": [
    {
     "name": "stdout",
     "output_type": "stream",
     "text": [
      "<class 'pandas.core.frame.DataFrame'>\n",
      "RangeIndex: 800000 entries, 0 to 799999\n",
      "Data columns (total 47 columns):\n",
      " #   Column              Non-Null Count   Dtype  \n",
      "---  ------              --------------   -----  \n",
      " 0   id                  800000 non-null  int64  \n",
      " 1   loanAmnt            800000 non-null  float64\n",
      " 2   term                800000 non-null  int64  \n",
      " 3   interestRate        800000 non-null  float64\n",
      " 4   installment         800000 non-null  float64\n",
      " 5   grade               800000 non-null  object \n",
      " 6   subGrade            800000 non-null  object \n",
      " 7   employmentTitle     799999 non-null  float64\n",
      " 8   employmentLength    753201 non-null  object \n",
      " 9   homeOwnership       800000 non-null  int64  \n",
      " 10  annualIncome        800000 non-null  float64\n",
      " 11  verificationStatus  800000 non-null  int64  \n",
      " 12  issueDate           800000 non-null  object \n",
      " 13  isDefault           800000 non-null  int64  \n",
      " 14  purpose             800000 non-null  int64  \n",
      " 15  postCode            799999 non-null  float64\n",
      " 16  regionCode          800000 non-null  int64  \n",
      " 17  dti                 799761 non-null  float64\n",
      " 18  delinquency_2years  800000 non-null  float64\n",
      " 19  ficoRangeLow        800000 non-null  float64\n",
      " 20  ficoRangeHigh       800000 non-null  float64\n",
      " 21  openAcc             800000 non-null  float64\n",
      " 22  pubRec              800000 non-null  float64\n",
      " 23  pubRecBankruptcies  799595 non-null  float64\n",
      " 24  revolBal            800000 non-null  float64\n",
      " 25  revolUtil           799469 non-null  float64\n",
      " 26  totalAcc            800000 non-null  float64\n",
      " 27  initialListStatus   800000 non-null  int64  \n",
      " 28  applicationType     800000 non-null  int64  \n",
      " 29  earliesCreditLine   800000 non-null  object \n",
      " 30  title               799999 non-null  float64\n",
      " 31  policyCode          800000 non-null  float64\n",
      " 32  n0                  759730 non-null  float64\n",
      " 33  n1                  759730 non-null  float64\n",
      " 34  n2                  759730 non-null  float64\n",
      " 35  n3                  759730 non-null  float64\n",
      " 36  n4                  766761 non-null  float64\n",
      " 37  n5                  759730 non-null  float64\n",
      " 38  n6                  759730 non-null  float64\n",
      " 39  n7                  759730 non-null  float64\n",
      " 40  n8                  759729 non-null  float64\n",
      " 41  n9                  759730 non-null  float64\n",
      " 42  n10                 766761 non-null  float64\n",
      " 43  n11                 730248 non-null  float64\n",
      " 44  n12                 759730 non-null  float64\n",
      " 45  n13                 759730 non-null  float64\n",
      " 46  n14                 759730 non-null  float64\n",
      "dtypes: float64(33), int64(9), object(5)\n",
      "memory usage: 286.9+ MB\n"
     ]
    }
   ],
   "source": [
    "#查看数据的一些基本信息\n",
    "data.info()"
   ]
  },
  {
   "cell_type": "markdown",
   "metadata": {},
   "source": [
    "整个数据集中有33个float类型特征,9个int类型变量,5个object类型变量,其中许多变量存在缺失值"
   ]
  },
  {
   "cell_type": "code",
   "execution_count": 7,
   "metadata": {
    "scrolled": true,
    "tags": []
   },
   "outputs": [
    {
     "data": {
      "text/html": [
       "<div>\n",
       "<style scoped>\n",
       "    .dataframe tbody tr th:only-of-type {\n",
       "        vertical-align: middle;\n",
       "    }\n",
       "\n",
       "    .dataframe tbody tr th {\n",
       "        vertical-align: top;\n",
       "    }\n",
       "\n",
       "    .dataframe thead th {\n",
       "        text-align: right;\n",
       "    }\n",
       "</style>\n",
       "<table border=\"1\" class=\"dataframe\">\n",
       "  <thead>\n",
       "    <tr style=\"text-align: right;\">\n",
       "      <th></th>\n",
       "      <th>count</th>\n",
       "      <th>mean</th>\n",
       "      <th>std</th>\n",
       "      <th>min</th>\n",
       "      <th>25%</th>\n",
       "      <th>50%</th>\n",
       "      <th>75%</th>\n",
       "      <th>max</th>\n",
       "    </tr>\n",
       "  </thead>\n",
       "  <tbody>\n",
       "    <tr>\n",
       "      <th>id</th>\n",
       "      <td>800000.0</td>\n",
       "      <td>399999.500000</td>\n",
       "      <td>230940.252015</td>\n",
       "      <td>0.00</td>\n",
       "      <td>199999.75</td>\n",
       "      <td>399999.500</td>\n",
       "      <td>599999.25</td>\n",
       "      <td>799999.00</td>\n",
       "    </tr>\n",
       "    <tr>\n",
       "      <th>loanAmnt</th>\n",
       "      <td>800000.0</td>\n",
       "      <td>14416.818875</td>\n",
       "      <td>8716.086178</td>\n",
       "      <td>500.00</td>\n",
       "      <td>8000.00</td>\n",
       "      <td>12000.000</td>\n",
       "      <td>20000.00</td>\n",
       "      <td>40000.00</td>\n",
       "    </tr>\n",
       "    <tr>\n",
       "      <th>term</th>\n",
       "      <td>800000.0</td>\n",
       "      <td>3.482745</td>\n",
       "      <td>0.855832</td>\n",
       "      <td>3.00</td>\n",
       "      <td>3.00</td>\n",
       "      <td>3.000</td>\n",
       "      <td>3.00</td>\n",
       "      <td>5.00</td>\n",
       "    </tr>\n",
       "    <tr>\n",
       "      <th>interestRate</th>\n",
       "      <td>800000.0</td>\n",
       "      <td>13.238391</td>\n",
       "      <td>4.765757</td>\n",
       "      <td>5.31</td>\n",
       "      <td>9.75</td>\n",
       "      <td>12.740</td>\n",
       "      <td>15.99</td>\n",
       "      <td>30.99</td>\n",
       "    </tr>\n",
       "    <tr>\n",
       "      <th>installment</th>\n",
       "      <td>800000.0</td>\n",
       "      <td>437.947723</td>\n",
       "      <td>261.460393</td>\n",
       "      <td>15.69</td>\n",
       "      <td>248.45</td>\n",
       "      <td>375.135</td>\n",
       "      <td>580.71</td>\n",
       "      <td>1715.42</td>\n",
       "    </tr>\n",
       "    <tr>\n",
       "      <th>employmentTitle</th>\n",
       "      <td>799999.0</td>\n",
       "      <td>72005.351714</td>\n",
       "      <td>106585.640204</td>\n",
       "      <td>0.00</td>\n",
       "      <td>427.00</td>\n",
       "      <td>7755.000</td>\n",
       "      <td>117663.50</td>\n",
       "      <td>378351.00</td>\n",
       "    </tr>\n",
       "    <tr>\n",
       "      <th>homeOwnership</th>\n",
       "      <td>800000.0</td>\n",
       "      <td>0.614213</td>\n",
       "      <td>0.675749</td>\n",
       "      <td>0.00</td>\n",
       "      <td>0.00</td>\n",
       "      <td>1.000</td>\n",
       "      <td>1.00</td>\n",
       "      <td>5.00</td>\n",
       "    </tr>\n",
       "    <tr>\n",
       "      <th>annualIncome</th>\n",
       "      <td>800000.0</td>\n",
       "      <td>76133.910493</td>\n",
       "      <td>68947.513672</td>\n",
       "      <td>0.00</td>\n",
       "      <td>45600.00</td>\n",
       "      <td>65000.000</td>\n",
       "      <td>90000.00</td>\n",
       "      <td>10999200.00</td>\n",
       "    </tr>\n",
       "    <tr>\n",
       "      <th>verificationStatus</th>\n",
       "      <td>800000.0</td>\n",
       "      <td>1.009683</td>\n",
       "      <td>0.782716</td>\n",
       "      <td>0.00</td>\n",
       "      <td>0.00</td>\n",
       "      <td>1.000</td>\n",
       "      <td>2.00</td>\n",
       "      <td>2.00</td>\n",
       "    </tr>\n",
       "    <tr>\n",
       "      <th>isDefault</th>\n",
       "      <td>800000.0</td>\n",
       "      <td>0.199513</td>\n",
       "      <td>0.399634</td>\n",
       "      <td>0.00</td>\n",
       "      <td>0.00</td>\n",
       "      <td>0.000</td>\n",
       "      <td>0.00</td>\n",
       "      <td>1.00</td>\n",
       "    </tr>\n",
       "    <tr>\n",
       "      <th>purpose</th>\n",
       "      <td>800000.0</td>\n",
       "      <td>1.745982</td>\n",
       "      <td>2.367453</td>\n",
       "      <td>0.00</td>\n",
       "      <td>0.00</td>\n",
       "      <td>0.000</td>\n",
       "      <td>4.00</td>\n",
       "      <td>13.00</td>\n",
       "    </tr>\n",
       "    <tr>\n",
       "      <th>postCode</th>\n",
       "      <td>799999.0</td>\n",
       "      <td>258.535648</td>\n",
       "      <td>200.037446</td>\n",
       "      <td>0.00</td>\n",
       "      <td>103.00</td>\n",
       "      <td>203.000</td>\n",
       "      <td>395.00</td>\n",
       "      <td>940.00</td>\n",
       "    </tr>\n",
       "    <tr>\n",
       "      <th>regionCode</th>\n",
       "      <td>800000.0</td>\n",
       "      <td>16.385758</td>\n",
       "      <td>11.036679</td>\n",
       "      <td>0.00</td>\n",
       "      <td>8.00</td>\n",
       "      <td>14.000</td>\n",
       "      <td>22.00</td>\n",
       "      <td>50.00</td>\n",
       "    </tr>\n",
       "    <tr>\n",
       "      <th>dti</th>\n",
       "      <td>799761.0</td>\n",
       "      <td>18.284557</td>\n",
       "      <td>11.150155</td>\n",
       "      <td>-1.00</td>\n",
       "      <td>11.79</td>\n",
       "      <td>17.610</td>\n",
       "      <td>24.06</td>\n",
       "      <td>999.00</td>\n",
       "    </tr>\n",
       "    <tr>\n",
       "      <th>delinquency_2years</th>\n",
       "      <td>800000.0</td>\n",
       "      <td>0.318239</td>\n",
       "      <td>0.880325</td>\n",
       "      <td>0.00</td>\n",
       "      <td>0.00</td>\n",
       "      <td>0.000</td>\n",
       "      <td>0.00</td>\n",
       "      <td>39.00</td>\n",
       "    </tr>\n",
       "    <tr>\n",
       "      <th>ficoRangeLow</th>\n",
       "      <td>800000.0</td>\n",
       "      <td>696.204081</td>\n",
       "      <td>31.865995</td>\n",
       "      <td>630.00</td>\n",
       "      <td>670.00</td>\n",
       "      <td>690.000</td>\n",
       "      <td>710.00</td>\n",
       "      <td>845.00</td>\n",
       "    </tr>\n",
       "    <tr>\n",
       "      <th>ficoRangeHigh</th>\n",
       "      <td>800000.0</td>\n",
       "      <td>700.204226</td>\n",
       "      <td>31.866674</td>\n",
       "      <td>634.00</td>\n",
       "      <td>674.00</td>\n",
       "      <td>694.000</td>\n",
       "      <td>714.00</td>\n",
       "      <td>850.00</td>\n",
       "    </tr>\n",
       "    <tr>\n",
       "      <th>openAcc</th>\n",
       "      <td>800000.0</td>\n",
       "      <td>11.598020</td>\n",
       "      <td>5.475286</td>\n",
       "      <td>0.00</td>\n",
       "      <td>8.00</td>\n",
       "      <td>11.000</td>\n",
       "      <td>14.00</td>\n",
       "      <td>86.00</td>\n",
       "    </tr>\n",
       "    <tr>\n",
       "      <th>pubRec</th>\n",
       "      <td>800000.0</td>\n",
       "      <td>0.214915</td>\n",
       "      <td>0.606467</td>\n",
       "      <td>0.00</td>\n",
       "      <td>0.00</td>\n",
       "      <td>0.000</td>\n",
       "      <td>0.00</td>\n",
       "      <td>86.00</td>\n",
       "    </tr>\n",
       "    <tr>\n",
       "      <th>pubRecBankruptcies</th>\n",
       "      <td>799595.0</td>\n",
       "      <td>0.134163</td>\n",
       "      <td>0.377471</td>\n",
       "      <td>0.00</td>\n",
       "      <td>0.00</td>\n",
       "      <td>0.000</td>\n",
       "      <td>0.00</td>\n",
       "      <td>12.00</td>\n",
       "    </tr>\n",
       "    <tr>\n",
       "      <th>revolBal</th>\n",
       "      <td>800000.0</td>\n",
       "      <td>16228.706505</td>\n",
       "      <td>22458.020544</td>\n",
       "      <td>0.00</td>\n",
       "      <td>5944.00</td>\n",
       "      <td>11132.000</td>\n",
       "      <td>19734.00</td>\n",
       "      <td>2904836.00</td>\n",
       "    </tr>\n",
       "    <tr>\n",
       "      <th>revolUtil</th>\n",
       "      <td>799469.0</td>\n",
       "      <td>51.790734</td>\n",
       "      <td>24.516126</td>\n",
       "      <td>0.00</td>\n",
       "      <td>33.40</td>\n",
       "      <td>52.100</td>\n",
       "      <td>70.70</td>\n",
       "      <td>892.30</td>\n",
       "    </tr>\n",
       "    <tr>\n",
       "      <th>totalAcc</th>\n",
       "      <td>800000.0</td>\n",
       "      <td>24.998861</td>\n",
       "      <td>11.999201</td>\n",
       "      <td>2.00</td>\n",
       "      <td>16.00</td>\n",
       "      <td>23.000</td>\n",
       "      <td>32.00</td>\n",
       "      <td>162.00</td>\n",
       "    </tr>\n",
       "    <tr>\n",
       "      <th>initialListStatus</th>\n",
       "      <td>800000.0</td>\n",
       "      <td>0.416953</td>\n",
       "      <td>0.493055</td>\n",
       "      <td>0.00</td>\n",
       "      <td>0.00</td>\n",
       "      <td>0.000</td>\n",
       "      <td>1.00</td>\n",
       "      <td>1.00</td>\n",
       "    </tr>\n",
       "    <tr>\n",
       "      <th>applicationType</th>\n",
       "      <td>800000.0</td>\n",
       "      <td>0.019267</td>\n",
       "      <td>0.137464</td>\n",
       "      <td>0.00</td>\n",
       "      <td>0.00</td>\n",
       "      <td>0.000</td>\n",
       "      <td>0.00</td>\n",
       "      <td>1.00</td>\n",
       "    </tr>\n",
       "    <tr>\n",
       "      <th>title</th>\n",
       "      <td>799999.0</td>\n",
       "      <td>1754.113589</td>\n",
       "      <td>7941.474040</td>\n",
       "      <td>0.00</td>\n",
       "      <td>0.00</td>\n",
       "      <td>1.000</td>\n",
       "      <td>5.00</td>\n",
       "      <td>61680.00</td>\n",
       "    </tr>\n",
       "    <tr>\n",
       "      <th>policyCode</th>\n",
       "      <td>800000.0</td>\n",
       "      <td>1.000000</td>\n",
       "      <td>0.000000</td>\n",
       "      <td>1.00</td>\n",
       "      <td>1.00</td>\n",
       "      <td>1.000</td>\n",
       "      <td>1.00</td>\n",
       "      <td>1.00</td>\n",
       "    </tr>\n",
       "    <tr>\n",
       "      <th>n0</th>\n",
       "      <td>759730.0</td>\n",
       "      <td>0.511932</td>\n",
       "      <td>1.333266</td>\n",
       "      <td>0.00</td>\n",
       "      <td>0.00</td>\n",
       "      <td>0.000</td>\n",
       "      <td>0.00</td>\n",
       "      <td>51.00</td>\n",
       "    </tr>\n",
       "    <tr>\n",
       "      <th>n1</th>\n",
       "      <td>759730.0</td>\n",
       "      <td>3.642330</td>\n",
       "      <td>2.246825</td>\n",
       "      <td>0.00</td>\n",
       "      <td>2.00</td>\n",
       "      <td>3.000</td>\n",
       "      <td>5.00</td>\n",
       "      <td>33.00</td>\n",
       "    </tr>\n",
       "    <tr>\n",
       "      <th>n2</th>\n",
       "      <td>759730.0</td>\n",
       "      <td>5.642648</td>\n",
       "      <td>3.302810</td>\n",
       "      <td>0.00</td>\n",
       "      <td>3.00</td>\n",
       "      <td>5.000</td>\n",
       "      <td>7.00</td>\n",
       "      <td>63.00</td>\n",
       "    </tr>\n",
       "    <tr>\n",
       "      <th>n3</th>\n",
       "      <td>759730.0</td>\n",
       "      <td>5.642648</td>\n",
       "      <td>3.302810</td>\n",
       "      <td>0.00</td>\n",
       "      <td>3.00</td>\n",
       "      <td>5.000</td>\n",
       "      <td>7.00</td>\n",
       "      <td>63.00</td>\n",
       "    </tr>\n",
       "    <tr>\n",
       "      <th>n4</th>\n",
       "      <td>766761.0</td>\n",
       "      <td>4.735641</td>\n",
       "      <td>2.949969</td>\n",
       "      <td>0.00</td>\n",
       "      <td>3.00</td>\n",
       "      <td>4.000</td>\n",
       "      <td>6.00</td>\n",
       "      <td>49.00</td>\n",
       "    </tr>\n",
       "    <tr>\n",
       "      <th>n5</th>\n",
       "      <td>759730.0</td>\n",
       "      <td>8.107937</td>\n",
       "      <td>4.799210</td>\n",
       "      <td>0.00</td>\n",
       "      <td>5.00</td>\n",
       "      <td>7.000</td>\n",
       "      <td>11.00</td>\n",
       "      <td>70.00</td>\n",
       "    </tr>\n",
       "    <tr>\n",
       "      <th>n6</th>\n",
       "      <td>759730.0</td>\n",
       "      <td>8.575994</td>\n",
       "      <td>7.400536</td>\n",
       "      <td>0.00</td>\n",
       "      <td>4.00</td>\n",
       "      <td>7.000</td>\n",
       "      <td>11.00</td>\n",
       "      <td>132.00</td>\n",
       "    </tr>\n",
       "    <tr>\n",
       "      <th>n7</th>\n",
       "      <td>759730.0</td>\n",
       "      <td>8.282953</td>\n",
       "      <td>4.561689</td>\n",
       "      <td>0.00</td>\n",
       "      <td>5.00</td>\n",
       "      <td>7.000</td>\n",
       "      <td>10.00</td>\n",
       "      <td>79.00</td>\n",
       "    </tr>\n",
       "    <tr>\n",
       "      <th>n8</th>\n",
       "      <td>759729.0</td>\n",
       "      <td>14.622488</td>\n",
       "      <td>8.124610</td>\n",
       "      <td>1.00</td>\n",
       "      <td>9.00</td>\n",
       "      <td>13.000</td>\n",
       "      <td>19.00</td>\n",
       "      <td>128.00</td>\n",
       "    </tr>\n",
       "    <tr>\n",
       "      <th>n9</th>\n",
       "      <td>759730.0</td>\n",
       "      <td>5.592345</td>\n",
       "      <td>3.216184</td>\n",
       "      <td>0.00</td>\n",
       "      <td>3.00</td>\n",
       "      <td>5.000</td>\n",
       "      <td>7.00</td>\n",
       "      <td>45.00</td>\n",
       "    </tr>\n",
       "    <tr>\n",
       "      <th>n10</th>\n",
       "      <td>766761.0</td>\n",
       "      <td>11.643896</td>\n",
       "      <td>5.484104</td>\n",
       "      <td>0.00</td>\n",
       "      <td>8.00</td>\n",
       "      <td>11.000</td>\n",
       "      <td>14.00</td>\n",
       "      <td>82.00</td>\n",
       "    </tr>\n",
       "    <tr>\n",
       "      <th>n11</th>\n",
       "      <td>730248.0</td>\n",
       "      <td>0.000815</td>\n",
       "      <td>0.030075</td>\n",
       "      <td>0.00</td>\n",
       "      <td>0.00</td>\n",
       "      <td>0.000</td>\n",
       "      <td>0.00</td>\n",
       "      <td>4.00</td>\n",
       "    </tr>\n",
       "    <tr>\n",
       "      <th>n12</th>\n",
       "      <td>759730.0</td>\n",
       "      <td>0.003384</td>\n",
       "      <td>0.062041</td>\n",
       "      <td>0.00</td>\n",
       "      <td>0.00</td>\n",
       "      <td>0.000</td>\n",
       "      <td>0.00</td>\n",
       "      <td>4.00</td>\n",
       "    </tr>\n",
       "    <tr>\n",
       "      <th>n13</th>\n",
       "      <td>759730.0</td>\n",
       "      <td>0.089366</td>\n",
       "      <td>0.509069</td>\n",
       "      <td>0.00</td>\n",
       "      <td>0.00</td>\n",
       "      <td>0.000</td>\n",
       "      <td>0.00</td>\n",
       "      <td>39.00</td>\n",
       "    </tr>\n",
       "    <tr>\n",
       "      <th>n14</th>\n",
       "      <td>759730.0</td>\n",
       "      <td>2.178606</td>\n",
       "      <td>1.844377</td>\n",
       "      <td>0.00</td>\n",
       "      <td>1.00</td>\n",
       "      <td>2.000</td>\n",
       "      <td>3.00</td>\n",
       "      <td>30.00</td>\n",
       "    </tr>\n",
       "  </tbody>\n",
       "</table>\n",
       "</div>"
      ],
      "text/plain": [
       "                       count           mean            std     min        25%  \\\n",
       "id                  800000.0  399999.500000  230940.252015    0.00  199999.75   \n",
       "loanAmnt            800000.0   14416.818875    8716.086178  500.00    8000.00   \n",
       "term                800000.0       3.482745       0.855832    3.00       3.00   \n",
       "interestRate        800000.0      13.238391       4.765757    5.31       9.75   \n",
       "installment         800000.0     437.947723     261.460393   15.69     248.45   \n",
       "employmentTitle     799999.0   72005.351714  106585.640204    0.00     427.00   \n",
       "homeOwnership       800000.0       0.614213       0.675749    0.00       0.00   \n",
       "annualIncome        800000.0   76133.910493   68947.513672    0.00   45600.00   \n",
       "verificationStatus  800000.0       1.009683       0.782716    0.00       0.00   \n",
       "isDefault           800000.0       0.199513       0.399634    0.00       0.00   \n",
       "purpose             800000.0       1.745982       2.367453    0.00       0.00   \n",
       "postCode            799999.0     258.535648     200.037446    0.00     103.00   \n",
       "regionCode          800000.0      16.385758      11.036679    0.00       8.00   \n",
       "dti                 799761.0      18.284557      11.150155   -1.00      11.79   \n",
       "delinquency_2years  800000.0       0.318239       0.880325    0.00       0.00   \n",
       "ficoRangeLow        800000.0     696.204081      31.865995  630.00     670.00   \n",
       "ficoRangeHigh       800000.0     700.204226      31.866674  634.00     674.00   \n",
       "openAcc             800000.0      11.598020       5.475286    0.00       8.00   \n",
       "pubRec              800000.0       0.214915       0.606467    0.00       0.00   \n",
       "pubRecBankruptcies  799595.0       0.134163       0.377471    0.00       0.00   \n",
       "revolBal            800000.0   16228.706505   22458.020544    0.00    5944.00   \n",
       "revolUtil           799469.0      51.790734      24.516126    0.00      33.40   \n",
       "totalAcc            800000.0      24.998861      11.999201    2.00      16.00   \n",
       "initialListStatus   800000.0       0.416953       0.493055    0.00       0.00   \n",
       "applicationType     800000.0       0.019267       0.137464    0.00       0.00   \n",
       "title               799999.0    1754.113589    7941.474040    0.00       0.00   \n",
       "policyCode          800000.0       1.000000       0.000000    1.00       1.00   \n",
       "n0                  759730.0       0.511932       1.333266    0.00       0.00   \n",
       "n1                  759730.0       3.642330       2.246825    0.00       2.00   \n",
       "n2                  759730.0       5.642648       3.302810    0.00       3.00   \n",
       "n3                  759730.0       5.642648       3.302810    0.00       3.00   \n",
       "n4                  766761.0       4.735641       2.949969    0.00       3.00   \n",
       "n5                  759730.0       8.107937       4.799210    0.00       5.00   \n",
       "n6                  759730.0       8.575994       7.400536    0.00       4.00   \n",
       "n7                  759730.0       8.282953       4.561689    0.00       5.00   \n",
       "n8                  759729.0      14.622488       8.124610    1.00       9.00   \n",
       "n9                  759730.0       5.592345       3.216184    0.00       3.00   \n",
       "n10                 766761.0      11.643896       5.484104    0.00       8.00   \n",
       "n11                 730248.0       0.000815       0.030075    0.00       0.00   \n",
       "n12                 759730.0       0.003384       0.062041    0.00       0.00   \n",
       "n13                 759730.0       0.089366       0.509069    0.00       0.00   \n",
       "n14                 759730.0       2.178606       1.844377    0.00       1.00   \n",
       "\n",
       "                           50%        75%          max  \n",
       "id                  399999.500  599999.25    799999.00  \n",
       "loanAmnt             12000.000   20000.00     40000.00  \n",
       "term                     3.000       3.00         5.00  \n",
       "interestRate            12.740      15.99        30.99  \n",
       "installment            375.135     580.71      1715.42  \n",
       "employmentTitle       7755.000  117663.50    378351.00  \n",
       "homeOwnership            1.000       1.00         5.00  \n",
       "annualIncome         65000.000   90000.00  10999200.00  \n",
       "verificationStatus       1.000       2.00         2.00  \n",
       "isDefault                0.000       0.00         1.00  \n",
       "purpose                  0.000       4.00        13.00  \n",
       "postCode               203.000     395.00       940.00  \n",
       "regionCode              14.000      22.00        50.00  \n",
       "dti                     17.610      24.06       999.00  \n",
       "delinquency_2years       0.000       0.00        39.00  \n",
       "ficoRangeLow           690.000     710.00       845.00  \n",
       "ficoRangeHigh          694.000     714.00       850.00  \n",
       "openAcc                 11.000      14.00        86.00  \n",
       "pubRec                   0.000       0.00        86.00  \n",
       "pubRecBankruptcies       0.000       0.00        12.00  \n",
       "revolBal             11132.000   19734.00   2904836.00  \n",
       "revolUtil               52.100      70.70       892.30  \n",
       "totalAcc                23.000      32.00       162.00  \n",
       "initialListStatus        0.000       1.00         1.00  \n",
       "applicationType          0.000       0.00         1.00  \n",
       "title                    1.000       5.00     61680.00  \n",
       "policyCode               1.000       1.00         1.00  \n",
       "n0                       0.000       0.00        51.00  \n",
       "n1                       3.000       5.00        33.00  \n",
       "n2                       5.000       7.00        63.00  \n",
       "n3                       5.000       7.00        63.00  \n",
       "n4                       4.000       6.00        49.00  \n",
       "n5                       7.000      11.00        70.00  \n",
       "n6                       7.000      11.00       132.00  \n",
       "n7                       7.000      10.00        79.00  \n",
       "n8                      13.000      19.00       128.00  \n",
       "n9                       5.000       7.00        45.00  \n",
       "n10                     11.000      14.00        82.00  \n",
       "n11                      0.000       0.00         4.00  \n",
       "n12                      0.000       0.00         4.00  \n",
       "n13                      0.000       0.00        39.00  \n",
       "n14                      2.000       3.00        30.00  "
      ]
     },
     "execution_count": 7,
     "metadata": {},
     "output_type": "execute_result"
    }
   ],
   "source": [
    "#查看数据的统计性描述\n",
    "data.describe().T"
   ]
  },
  {
   "cell_type": "markdown",
   "metadata": {},
   "source": [
    "某些特征存在异常值,如`dti`的75%分位数仅仅为24,但是最大值达到了999"
   ]
  },
  {
   "cell_type": "markdown",
   "metadata": {},
   "source": [
    "## 查看数据集中特征缺失值，唯一值等 <a id = '2.3'>"
   ]
  },
  {
   "cell_type": "markdown",
   "metadata": {},
   "source": [
    "### 查看缺失值并处理 <a id = '2.3.1'>"
   ]
  },
  {
   "cell_type": "code",
   "execution_count": 8,
   "metadata": {},
   "outputs": [
    {
     "name": "stdout",
     "output_type": "stream",
     "text": [
      "共有22个特征存在缺失值\n",
      "其中employmentTitle列的缺失个数为1, 缺失比例为0.0001%\n",
      "其中employmentLength列的缺失个数为46799, 缺失比例为5.8499%\n",
      "其中postCode列的缺失个数为1, 缺失比例为0.0001%\n",
      "其中dti列的缺失个数为239, 缺失比例为0.0299%\n",
      "其中pubRecBankruptcies列的缺失个数为405, 缺失比例为0.0506%\n",
      "其中revolUtil列的缺失个数为531, 缺失比例为0.0664%\n",
      "其中title列的缺失个数为1, 缺失比例为0.0001%\n",
      "其中n0列的缺失个数为40270, 缺失比例为5.0338%\n",
      "其中n1列的缺失个数为40270, 缺失比例为5.0338%\n",
      "其中n2列的缺失个数为40270, 缺失比例为5.0338%\n",
      "其中n3列的缺失个数为40270, 缺失比例为5.0338%\n",
      "其中n4列的缺失个数为33239, 缺失比例为4.1549%\n",
      "其中n5列的缺失个数为40270, 缺失比例为5.0338%\n",
      "其中n6列的缺失个数为40270, 缺失比例为5.0338%\n",
      "其中n7列的缺失个数为40270, 缺失比例为5.0338%\n",
      "其中n8列的缺失个数为40271, 缺失比例为5.0339%\n",
      "其中n9列的缺失个数为40270, 缺失比例为5.0338%\n",
      "其中n10列的缺失个数为33239, 缺失比例为4.1549%\n",
      "其中n11列的缺失个数为69752, 缺失比例为8.719%\n",
      "其中n12列的缺失个数为40270, 缺失比例为5.0338%\n",
      "其中n13列的缺失个数为40270, 缺失比例为5.0338%\n",
      "其中n14列的缺失个数为40270, 缺失比例为5.0338%\n"
     ]
    }
   ],
   "source": [
    "print(f'共有{data.isnull().any().sum()}个特征存在缺失值')\n",
    "\n",
    "have_null_fea_dict = {}\n",
    "for key,value in (data.isnull().sum()).to_dict().items():\n",
    "    if value != 0:\n",
    "        have_null_fea_dict[key] = value\n",
    "        miss_prec = (value/len(data))*100\n",
    "        print(f'其中{key}列的缺失个数为{value}, 缺失比例为{round(miss_prec,4)}%')"
   ]
  },
  {
   "cell_type": "code",
   "execution_count": 9,
   "metadata": {
    "tags": []
   },
   "outputs": [
    {
     "data": {
      "text/plain": [
       "<AxesSubplot:>"
      ]
     },
     "execution_count": 9,
     "metadata": {},
     "output_type": "execute_result"
    },
    {
     "data": {
      "image/png": "[encoded data removed]",
      "text/plain": [
       "<Figure size 720x360 with 1 Axes>"
      ]
     },
     "metadata": {
      "needs_background": "light"
     },
     "output_type": "display_data"
    }
   ],
   "source": [
    "# nan可视化\n",
    "missing = data.isnull().sum()/len(data)\n",
    "missing = missing[missing > 0]\n",
    "missing.sort_values(inplace=True)\n",
    "missing.plot.bar(figsize = (10,5))"
   ]
  },
  {
   "cell_type": "markdown",
   "metadata": {},
   "source": [
    "**缺失值处理方法**\n",
    "\n",
    "- 首先可以从特征的角度出发,如果某一列nan的个数比较大，说明这一列对label的影响几乎不起作用了，可以考虑删掉。如果缺失值很小一般可以选择填充。\n",
    "\n",
    "- 其次可以从样本的角度出发,如果在数据集中,某些样本数据的大部分列都是缺失的且样本足够的情况下可以考虑删除。\n",
    "\n",
    "- 此外如果某个特征只有很少的缺失值,可以把这些样本删除\n",
    "\n",
    "\n",
    "比如在本例中,`employmentTitle,postCode,dti,pubRecBankruptcies,revolUtil,title`特征的缺失值都在1000以内,相对80万的样本总量而言比较小,可以直接删除这些缺失的样本\n",
    "\n",
    "而其他的特征的缺失值在30000-70000之间,不适合直接删除,可以考虑其他方法处理,比如均值填充"
   ]
  },
  {
   "cell_type": "code",
   "execution_count": 10,
   "metadata": {},
   "outputs": [],
   "source": [
    "# 删除缺失值样本\n",
    "data.dropna(axis = 0,subset = ['employmentTitle','postCode','dti','pubRecBankruptcies','revolUtil','title'],inplace = True)"
   ]
  },
  {
   "cell_type": "markdown",
   "metadata": {},
   "source": [
    "注意到employmentLength列是类别变量，其他是数值变量。类别变量无法使用均值、中位数等统计量填充，因此先观察employmentLength的情况。"
   ]
  },
  {
   "cell_type": "code",
   "execution_count": 11,
   "metadata": {},
   "outputs": [
    {
     "data": {
      "text/plain": [
       "10+ years    262512\n",
       "2 years       72264\n",
       "3 years       64084\n",
       "< 1 year      64071\n",
       "1 year        52394\n",
       "5 years       50051\n",
       "4 years       47930\n",
       "NaN           46541\n",
       "6 years       37210\n",
       "8 years       36152\n",
       "7 years       35370\n",
       "9 years       30244\n",
       "Name: employmentLength, dtype: int64"
      ]
     },
     "execution_count": 11,
     "metadata": {},
     "output_type": "execute_result"
    }
   ],
   "source": [
    "data['employmentLength'].value_counts(dropna = False)"
   ]
  },
  {
   "cell_type": "markdown",
   "metadata": {},
   "source": [
    "观察到employmentLength列中缺失值个数与其他类别差不多，且这一列的特征意义是工作年龄，也许这类人故意隐瞒工作年龄，可能具有更高的风险，因此将缺失值填充为Other。"
   ]
  },
  {
   "cell_type": "code",
   "execution_count": 12,
   "metadata": {},
   "outputs": [],
   "source": [
    "data['employmentLength'].fillna('Other',inplace = True)"
   ]
  },
  {
   "cell_type": "code",
   "execution_count": 13,
   "metadata": {},
   "outputs": [
    {
     "data": {
      "text/plain": [
       "10+ years    262512\n",
       "2 years       72264\n",
       "3 years       64084\n",
       "< 1 year      64071\n",
       "1 year        52394\n",
       "5 years       50051\n",
       "4 years       47930\n",
       "Other         46541\n",
       "6 years       37210\n",
       "8 years       36152\n",
       "7 years       35370\n",
       "9 years       30244\n",
       "Name: employmentLength, dtype: int64"
      ]
     },
     "execution_count": 13,
     "metadata": {},
     "output_type": "execute_result"
    }
   ],
   "source": [
    "data['employmentLength'].value_counts(dropna = False)"
   ]
  },
  {
   "cell_type": "markdown",
   "metadata": {},
   "source": [
    "填充后不存在缺失值，由原本的10个类别变成了11个类别。\n",
    "\n",
    "关于类别的编码我们后续进行。\n",
    "\n",
    "接下来对其他特征采用均值填充的办法进行填充"
   ]
  },
  {
   "cell_type": "code",
   "execution_count": 14,
   "metadata": {},
   "outputs": [],
   "source": [
    "# 采用均值填充法填充剩余的缺失值\n",
    "for cols in data.columns:\n",
    "    if data[cols].isnull().any():\n",
    "        data[cols].fillna(data[cols].mean(),inplace = True)"
   ]
  },
  {
   "cell_type": "code",
   "execution_count": 15,
   "metadata": {},
   "outputs": [
    {
     "name": "stdout",
     "output_type": "stream",
     "text": [
      "共有0个特征存在缺失值\n"
     ]
    }
   ],
   "source": [
    "print(f'共有{data.isnull().any().sum()}个特征存在缺失值')"
   ]
  },
  {
   "cell_type": "markdown",
   "metadata": {},
   "source": [
    "至此，缺失值就处理完毕。"
   ]
  },
  {
   "cell_type": "markdown",
   "metadata": {},
   "source": [
    "### 查看只有唯一值的特征 <a id = '2.3.2'>"
   ]
  },
  {
   "cell_type": "code",
   "execution_count": 16,
   "metadata": {},
   "outputs": [],
   "source": [
    "one_value_fea = [col for col in data.columns if data[col].nunique() <= 1]"
   ]
  },
  {
   "cell_type": "code",
   "execution_count": 17,
   "metadata": {},
   "outputs": [
    {
     "data": {
      "text/plain": [
       "['policyCode']"
      ]
     },
     "execution_count": 17,
     "metadata": {},
     "output_type": "execute_result"
    }
   ],
   "source": [
    "one_value_fea"
   ]
  },
  {
   "cell_type": "markdown",
   "metadata": {},
   "source": [
    "可以看到只有policyCode这个特征只有唯一值，既然所有的样本都是同样的特征值，那么这个特征对我们而言没有任何用处，因此删除这个特征"
   ]
  },
  {
   "cell_type": "code",
   "execution_count": 18,
   "metadata": {},
   "outputs": [],
   "source": [
    "data.drop(columns = ['policyCode'],inplace = True) "
   ]
  },
  {
   "cell_type": "markdown",
   "metadata": {},
   "source": [
    "## 小结 <a id = '2.4'>\n",
    "47列数据中有22列都缺少数据，这在现实世界中很正常。\n",
    "\n",
    "‘policyCode’具有一个唯一值（或全部缺失）。\n",
    "\n",
    "有很多连续变量和一些分类变量。\n",
    "\n",
    "我们对缺失值进行了处理，删除了只有一个唯一值的特征。"
   ]
  },
  {
   "cell_type": "markdown",
   "metadata": {},
   "source": [
    "# 特征分析 <a id = '3'>\n",
    "\n",
    "- 特征一般都是由类别型特征和数值型特征组成，而数值型特征又分为连续型和离散型。\n",
    "\n",
    "- 类别型特征有时具有非数值关系，有时也具有数值关系。比如‘grade’中的等级A，B，C等，是否只是单纯的分类，还是A优于其他要结合业务判断。\n",
    "\n",
    "- 数值型特征本是可以直接入模的，但往往风控人员要对其做分箱，转化为WOE编码进而做标准评分卡等操作。从模型效果上来看，特征分箱主要是为了降低变量的复杂性，减少变量噪音对模型的影响，提高自变量和因变量的相关度。从而使模型更加稳定。但是这也不是一定的，需要根据最终的结果来进行分析"
   ]
  },
  {
   "cell_type": "code",
   "execution_count": 19,
   "metadata": {},
   "outputs": [],
   "source": [
    "numerical_fea = list(data.select_dtypes(exclude=['object']).columns)\n",
    "category_fea = list(data.select_dtypes(include=['object']).columns)"
   ]
  },
  {
   "cell_type": "code",
   "execution_count": 20,
   "metadata": {
    "scrolled": true
   },
   "outputs": [
    {
     "data": {
      "text/plain": [
       "['id',\n",
       " 'loanAmnt',\n",
       " 'term',\n",
       " 'interestRate',\n",
       " 'installment',\n",
       " 'employmentTitle',\n",
       " 'homeOwnership',\n",
       " 'annualIncome',\n",
       " 'verificationStatus',\n",
       " 'isDefault',\n",
       " 'purpose',\n",
       " 'postCode',\n",
       " 'regionCode',\n",
       " 'dti',\n",
       " 'delinquency_2years',\n",
       " 'ficoRangeLow',\n",
       " 'ficoRangeHigh',\n",
       " 'openAcc',\n",
       " 'pubRec',\n",
       " 'pubRecBankruptcies',\n",
       " 'revolBal',\n",
       " 'revolUtil',\n",
       " 'totalAcc',\n",
       " 'initialListStatus',\n",
       " 'applicationType',\n",
       " 'title',\n",
       " 'n0',\n",
       " 'n1',\n",
       " 'n2',\n",
       " 'n3',\n",
       " 'n4',\n",
       " 'n5',\n",
       " 'n6',\n",
       " 'n7',\n",
       " 'n8',\n",
       " 'n9',\n",
       " 'n10',\n",
       " 'n11',\n",
       " 'n12',\n",
       " 'n13',\n",
       " 'n14']"
      ]
     },
     "execution_count": 20,
     "metadata": {},
     "output_type": "execute_result"
    }
   ],
   "source": [
    "numerical_fea"
   ]
  },
  {
   "cell_type": "code",
   "execution_count": 21,
   "metadata": {},
   "outputs": [
    {
     "data": {
      "text/plain": [
       "['grade', 'subGrade', 'employmentLength', 'issueDate', 'earliesCreditLine']"
      ]
     },
     "execution_count": 21,
     "metadata": {},
     "output_type": "execute_result"
    }
   ],
   "source": [
    "category_fea"
   ]
  },
  {
   "cell_type": "markdown",
   "metadata": {},
   "source": [
    "## 数值型变量 <a id = '3.1'>"
   ]
  },
  {
   "cell_type": "markdown",
   "metadata": {},
   "source": [
    "数值型变量分为连续型变量和离散型变量，因此需要进行以下分析：\n",
    "\n",
    "- 划分数值型变量中的连续变量和离散型变量\n",
    "\n",
    "- 针对两个变量进行分析"
   ]
  },
  {
   "cell_type": "code",
   "execution_count": 22,
   "metadata": {},
   "outputs": [],
   "source": [
    "#过滤数值型类别特征,将数值型变量分为连续型变量和离散型变量。\n",
    "# 考虑离散型变量的特征值一般不会超过15个，因此将单一特征值超过15个的特征归类为连续型变量。\n",
    "\n",
    "def get_numerical_serial_fea(data):\n",
    "    \"\"\"\n",
    "    定义一个函数，将数据集的特征分为连续型变量和离散型变量\n",
    "    --------------------------------------------------\n",
    "    Parameters\n",
    "    ----------\n",
    "    data:需要划分变量类型的数据集\n",
    "\n",
    "    Returns\n",
    "    -------\n",
    "    continuous_variable，discrete_variable\n",
    "    其中continuous_variable是连续型变量的特征名称列表\n",
    "    其中discrete_variable是离散型变量的特征名称列表\n",
    "    \"\"\"\n",
    "    discrete_variable = []\n",
    "    continuous_variable = []\n",
    "    for fea in data.columns:\n",
    "        if data[fea].dtype != 'object':\n",
    "            temp = data[fea].nunique()\n",
    "            if temp <= 15:\n",
    "                discrete_variable.append(fea)\n",
    "                continue\n",
    "            continuous_variable.append(fea)\n",
    "    return continuous_variable,discrete_variable\n",
    "continuous_fea,discrete_fea = get_numerical_serial_fea(data)"
   ]
  },
  {
   "cell_type": "code",
   "execution_count": 23,
   "metadata": {
    "scrolled": true,
    "tags": []
   },
   "outputs": [
    {
     "data": {
      "text/plain": [
       "['id',\n",
       " 'loanAmnt',\n",
       " 'interestRate',\n",
       " 'installment',\n",
       " 'employmentTitle',\n",
       " 'annualIncome',\n",
       " 'postCode',\n",
       " 'regionCode',\n",
       " 'dti',\n",
       " 'delinquency_2years',\n",
       " 'ficoRangeLow',\n",
       " 'ficoRangeHigh',\n",
       " 'openAcc',\n",
       " 'pubRec',\n",
       " 'revolBal',\n",
       " 'revolUtil',\n",
       " 'totalAcc',\n",
       " 'title',\n",
       " 'n0',\n",
       " 'n1',\n",
       " 'n2',\n",
       " 'n3',\n",
       " 'n4',\n",
       " 'n5',\n",
       " 'n6',\n",
       " 'n7',\n",
       " 'n8',\n",
       " 'n9',\n",
       " 'n10',\n",
       " 'n13',\n",
       " 'n14']"
      ]
     },
     "execution_count": 23,
     "metadata": {},
     "output_type": "execute_result"
    }
   ],
   "source": [
    "continuous_fea"
   ]
  },
  {
   "cell_type": "code",
   "execution_count": 24,
   "metadata": {
    "scrolled": true
   },
   "outputs": [
    {
     "data": {
      "text/plain": [
       "['term',\n",
       " 'homeOwnership',\n",
       " 'verificationStatus',\n",
       " 'isDefault',\n",
       " 'purpose',\n",
       " 'pubRecBankruptcies',\n",
       " 'initialListStatus',\n",
       " 'applicationType',\n",
       " 'n11',\n",
       " 'n12']"
      ]
     },
     "execution_count": 24,
     "metadata": {},
     "output_type": "execute_result"
    }
   ],
   "source": [
    "discrete_fea"
   ]
  },
  {
   "cell_type": "markdown",
   "metadata": {},
   "source": [
    "我们将全部特征分成了三类\n",
    "- 数值型离散特征（discrete_fea）\n",
    "- 数值型连续特征（continuous_fea）\n",
    "- 非数值型类别特征（category_fea）\n",
    "\n",
    "下面对这三类特征进行分析"
   ]
  },
  {
   "cell_type": "markdown",
   "metadata": {},
   "source": [
    "### 数值离散型变量分析 <a id = '3.1.1'>"
   ]
  },
  {
   "cell_type": "code",
   "execution_count": 25,
   "metadata": {},
   "outputs": [
    {
     "data": {
      "text/plain": [
       "3    605917\n",
       "5    192906\n",
       "Name: term, dtype: int64"
      ]
     },
     "execution_count": 25,
     "metadata": {},
     "output_type": "execute_result"
    }
   ],
   "source": [
    "data['term'].value_counts()#离散型变量"
   ]
  },
  {
   "cell_type": "code",
   "execution_count": 26,
   "metadata": {},
   "outputs": [
    {
     "data": {
      "text/plain": [
       "0    395189\n",
       "1    317176\n",
       "2     86163\n",
       "3       184\n",
       "5        79\n",
       "4        32\n",
       "Name: homeOwnership, dtype: int64"
      ]
     },
     "execution_count": 26,
     "metadata": {},
     "output_type": "execute_result"
    }
   ],
   "source": [
    "data['homeOwnership'].value_counts()#离散型变量"
   ]
  },
  {
   "cell_type": "code",
   "execution_count": 27,
   "metadata": {
    "scrolled": true
   },
   "outputs": [
    {
     "data": {
      "text/plain": [
       "1    309596\n",
       "2    248774\n",
       "0    240453\n",
       "Name: verificationStatus, dtype: int64"
      ]
     },
     "execution_count": 27,
     "metadata": {},
     "output_type": "execute_result"
    }
   ],
   "source": [
    "data['verificationStatus'].value_counts()#离散型变量"
   ]
  },
  {
   "cell_type": "code",
   "execution_count": 28,
   "metadata": {},
   "outputs": [
    {
     "data": {
      "text/plain": [
       "0    465958\n",
       "1    332865\n",
       "Name: initialListStatus, dtype: int64"
      ]
     },
     "execution_count": 28,
     "metadata": {},
     "output_type": "execute_result"
    }
   ],
   "source": [
    "data['initialListStatus'].value_counts()#离散型变量"
   ]
  },
  {
   "cell_type": "code",
   "execution_count": 29,
   "metadata": {},
   "outputs": [
    {
     "data": {
      "text/plain": [
       "0    783676\n",
       "1     15147\n",
       "Name: applicationType, dtype: int64"
      ]
     },
     "execution_count": 29,
     "metadata": {},
     "output_type": "execute_result"
    }
   ],
   "source": [
    "data['applicationType'].value_counts()#离散型变量"
   ]
  },
  {
   "cell_type": "code",
   "execution_count": 30,
   "metadata": {},
   "outputs": [
    {
     "data": {
      "text/plain": [
       "0.000000    728969\n",
       "0.000816     69288\n",
       "1.000000       540\n",
       "2.000000        24\n",
       "4.000000         1\n",
       "3.000000         1\n",
       "Name: n11, dtype: int64"
      ]
     },
     "execution_count": 30,
     "metadata": {},
     "output_type": "execute_result"
    }
   ],
   "source": [
    "data['n11'].value_counts()#离散型变量，相差悬殊，用不用再分析"
   ]
  },
  {
   "cell_type": "code",
   "execution_count": 31,
   "metadata": {},
   "outputs": [
    {
     "data": {
      "text/plain": [
       "0.000000    756604\n",
       "0.003385     39806\n",
       "1.000000      2279\n",
       "2.000000       115\n",
       "3.000000        16\n",
       "4.000000         3\n",
       "Name: n12, dtype: int64"
      ]
     },
     "execution_count": 31,
     "metadata": {},
     "output_type": "execute_result"
    }
   ],
   "source": [
    "data['n12'].value_counts()#离散型变量，相差悬殊，用不用再分析"
   ]
  },
  {
   "cell_type": "markdown",
   "metadata": {},
   "source": [
    "> **n11和n12这两个分类变量存在一定的问题，应该要如何处理？**"
   ]
  },
  {
   "cell_type": "markdown",
   "metadata": {},
   "source": [
    "### 数值连续型变量分析 <a id = '3.1.2'>"
   ]
  },
  {
   "cell_type": "code",
   "execution_count": 32,
   "metadata": {},
   "outputs": [
    {
     "data": {
      "image/png": "[encoded data removed]",
      "text/plain": [
       "<Figure size 432x3456 with 31 Axes>"
      ]
     },
     "metadata": {
      "needs_background": "light"
     },
     "output_type": "display_data"
    }
   ],
   "source": [
    "#每个数字特征得分布可视化\n",
    "f = pd.melt(data, value_vars=continuous_fea)\n",
    "g = sns.FacetGrid(f, col=\"variable\",  col_wrap=2, sharex=False, sharey=False)\n",
    "g = g.map(sns.distplot, \"value\")"
   ]
  },
  {
   "cell_type": "markdown",
   "metadata": {},
   "source": [
    "- 查看某一个数值型变量的分布，查看变量是否符合正态分布，如果不符合正太分布的变量可以log化后再观察下是否符合正态分布。\n",
    "- 如果想统一处理一批数据变标准化 必须把这些之前已经正态化的数据提出\n",
    "- 正态化的原因：一些情况下正态非正态可以让模型更快的收敛，一些模型要求数据正态（eg. GMM、KNN）,保证数据不要过偏态即可，过于偏态可能会影响模型预测结果。"
   ]
  },
  {
   "cell_type": "code",
   "execution_count": 33,
   "metadata": {},
   "outputs": [
    {
     "data": {
      "text/plain": [
       "Text(0, 0.5, 'Probability')"
      ]
     },
     "execution_count": 33,
     "metadata": {},
     "output_type": "execute_result"
    },
    {
     "data": {
      "image/png": "[encoded data removed]",
      "text/plain": [
       "<Figure size 1152x864 with 2 Axes>"
      ]
     },
     "metadata": {
      "needs_background": "light"
     },
     "output_type": "display_data"
    }
   ],
   "source": [
    "# 可以更加详细的对单个变量进行分析，下面以LoanAmount为例\n",
    "## 由于matplotlib使用中文需要额外设置，下面都使用英文\n",
    "plt.figure(figsize=(16,12))\n",
    "plt.suptitle('Transaction Values Distribution', fontsize=22)\n",
    "plt.subplot(221)\n",
    "sub_plot_1 = sns.distplot(data['loanAmnt'])\n",
    "sub_plot_1.set_title(\"loanAmnt Distribuition\", fontsize=18)\n",
    "sub_plot_1.set_xlabel(\"\")\n",
    "sub_plot_1.set_ylabel(\"Probability\", fontsize=15)\n",
    "\n",
    "# 对LoanAmount进行log处理，进行对比\n",
    "plt.subplot(222)\n",
    "sub_plot_2 = sns.distplot(np.log(data['loanAmnt']))\n",
    "sub_plot_2.set_title(\"loanAmnt (Log) Distribuition\", fontsize=18)\n",
    "sub_plot_2.set_xlabel(\"\")\n",
    "sub_plot_2.set_ylabel(\"Probability\", fontsize=15)"
   ]
  },
  {
   "cell_type": "markdown",
   "metadata": {},
   "source": [
    "## 非数值类别型变量分析 <a id = '3.2'>"
   ]
  },
  {
   "cell_type": "code",
   "execution_count": 34,
   "metadata": {},
   "outputs": [
    {
     "data": {
      "text/plain": [
       "B    233410\n",
       "C    226759\n",
       "A    139495\n",
       "D    119230\n",
       "E     55559\n",
       "F     19015\n",
       "G      5355\n",
       "Name: grade, dtype: int64"
      ]
     },
     "execution_count": 34,
     "metadata": {},
     "output_type": "execute_result"
    }
   ],
   "source": [
    "data['grade'].value_counts()"
   ]
  },
  {
   "cell_type": "code",
   "execution_count": 35,
   "metadata": {
    "scrolled": true,
    "tags": []
   },
   "outputs": [
    {
     "data": {
      "text/plain": [
       "C1    50692\n",
       "B4    49454\n",
       "B5    48916\n",
       "B3    48548\n",
       "C2    46996\n",
       "C3    44680\n",
       "C4    44188\n",
       "B2    44170\n",
       "B1    42322\n",
       "C5    40203\n",
       "A5    38008\n",
       "A4    30883\n",
       "D1    30487\n",
       "D2    26478\n",
       "A1    25890\n",
       "D3    23365\n",
       "A3    22620\n",
       "A2    22094\n",
       "D4    21100\n",
       "D5    17800\n",
       "E1    14048\n",
       "E2    12718\n",
       "E3    10903\n",
       "E4     9254\n",
       "E5     8636\n",
       "F1     5917\n",
       "F2     4328\n",
       "F3     3570\n",
       "F4     2854\n",
       "F5     2346\n",
       "G1     1758\n",
       "G2     1228\n",
       "G3      977\n",
       "G4      749\n",
       "G5      643\n",
       "Name: subGrade, dtype: int64"
      ]
     },
     "execution_count": 35,
     "metadata": {},
     "output_type": "execute_result"
    }
   ],
   "source": [
    "data['subGrade'].value_counts()"
   ]
  },
  {
   "cell_type": "code",
   "execution_count": 36,
   "metadata": {},
   "outputs": [
    {
     "data": {
      "text/plain": [
       "10+ years    262512\n",
       "2 years       72264\n",
       "3 years       64084\n",
       "< 1 year      64071\n",
       "1 year        52394\n",
       "5 years       50051\n",
       "4 years       47930\n",
       "Other         46541\n",
       "6 years       37210\n",
       "8 years       36152\n",
       "7 years       35370\n",
       "9 years       30244\n",
       "Name: employmentLength, dtype: int64"
      ]
     },
     "execution_count": 36,
     "metadata": {},
     "output_type": "execute_result"
    }
   ],
   "source": [
    "data['employmentLength'].value_counts()"
   ]
  },
  {
   "cell_type": "code",
   "execution_count": 37,
   "metadata": {},
   "outputs": [
    {
     "data": {
      "text/plain": [
       "2016-03-01    29041\n",
       "2015-10-01    25519\n",
       "2015-07-01    24480\n",
       "2015-12-01    23234\n",
       "2014-10-01    21450\n",
       "              ...  \n",
       "2008-02-01        4\n",
       "2008-01-01        3\n",
       "2007-08-01        1\n",
       "2007-11-01        1\n",
       "2007-10-01        1\n",
       "Name: issueDate, Length: 135, dtype: int64"
      ]
     },
     "execution_count": 37,
     "metadata": {},
     "output_type": "execute_result"
    }
   ],
   "source": [
    "data['issueDate'].value_counts()"
   ]
  },
  {
   "cell_type": "code",
   "execution_count": 38,
   "metadata": {},
   "outputs": [
    {
     "data": {
      "text/plain": [
       "Aug-2001    5559\n",
       "Aug-2002    5401\n",
       "Sep-2003    5391\n",
       "Oct-2001    5250\n",
       "Aug-2000    5242\n",
       "            ... \n",
       "Aug-1955       1\n",
       "Feb-1960       1\n",
       "Sep-1957       1\n",
       "Jul-1955       1\n",
       "Jan-1946       1\n",
       "Name: earliesCreditLine, Length: 720, dtype: int64"
      ]
     },
     "execution_count": 38,
     "metadata": {},
     "output_type": "execute_result"
    }
   ],
   "source": [
    "data['earliesCreditLine'].value_counts()"
   ]
  },
  {
   "cell_type": "markdown",
   "metadata": {},
   "source": [
    "在非数值型特征中，可以发现`grade,subgrade,employmentLength`三个变量是类别变量，在以后的特征工程中进行处理。\n",
    "\n",
    "而`issueData,earliesCreditLine`两个变量是时间变量，我们将其转换为数值变量，将时间转为距离'2022-01-01'的天数"
   ]
  },
  {
   "cell_type": "code",
   "execution_count": 39,
   "metadata": {},
   "outputs": [],
   "source": [
    "#将issuedate转换为距离2022-01-01的天数\n",
    "data['issueDate'] = pd.to_datetime(data['issueDate'],format='%Y-%m-%d')\n",
    "startdate = datetime.datetime.strptime('2022-01-01', '%Y-%m-%d')\n",
    "data['issueDateDT'] = data['issueDate'].apply(lambda x: x-startdate).dt.days"
   ]
  },
  {
   "cell_type": "code",
   "execution_count": 40,
   "metadata": {},
   "outputs": [],
   "source": [
    "#将earliesCreditLine转换为距离2022-01-01的天数\n",
    "data['earliesCreditLine'] = pd.to_datetime(data['earliesCreditLine'])\n",
    "startdate = datetime.datetime.strptime('2022-01-01', '%Y-%m-%d')\n",
    "data['earliesCreditLineDT'] = data['earliesCreditLine'].apply(lambda x: x-startdate).dt.days"
   ]
  },
  {
   "cell_type": "code",
   "execution_count": 41,
   "metadata": {},
   "outputs": [],
   "source": [
    "#删除IssueDate和earliesCreditLine两个原始特征\n",
    "data.drop(columns = ['issueDate','earliesCreditLine'],inplace = True)"
   ]
  },
  {
   "cell_type": "markdown",
   "metadata": {},
   "source": [
    "## 目标变量观察 <a id = '3.3'>"
   ]
  },
  {
   "cell_type": "code",
   "execution_count": 42,
   "metadata": {
    "scrolled": true
   },
   "outputs": [
    {
     "data": {
      "text/plain": [
       "0    0.800488\n",
       "1    0.199512\n",
       "Name: isDefault, dtype: float64"
      ]
     },
     "execution_count": 42,
     "metadata": {},
     "output_type": "execute_result"
    }
   ],
   "source": [
    "data['isDefault'].value_counts(normalize=True)"
   ]
  },
  {
   "cell_type": "markdown",
   "metadata": {},
   "source": [
    "isDefault表示是否违约，其中1表示违约，0表示不违约。\n",
    "\n",
    "是一个典型的二分类问题\n",
    "\n",
    "从违约率来分析，由大约19.95%的人违约。这对于违约率来说是比较高的。但是对于二分类问题，存在一定的样本不平衡性"
   ]
  },
  {
   "cell_type": "markdown",
   "metadata": {},
   "source": [
    "## 小结 <a id = '3.4'>\n",
    "- 上面我们用value_counts()等函数看了特征属性的分布，但是图表是概括原始信息最便捷的方式。\n",
    "- 数无形时少直觉。\n",
    "- 同一份数据集，在不同的尺度刻画上显示出来的图形反映的规律是不一样的。python将数据转化成图表，但结论是否正确需要由你保证。"
   ]
  },
  {
   "cell_type": "markdown",
   "metadata": {},
   "source": [
    "# 可视化分析 <a id = '4'>"
   ]
  },
  {
   "cell_type": "markdown",
   "metadata": {},
   "source": [
    "## 单一特征可视化<a id = '4.1'>"
   ]
  },
  {
   "cell_type": "code",
   "execution_count": 43,
   "metadata": {},
   "outputs": [
    {
     "data": {
      "image/png": "[encoded data removed]",
      "text/plain": [
       "<Figure size 576x576 with 1 Axes>"
      ]
     },
     "metadata": {
      "needs_background": "light"
     },
     "output_type": "display_data"
    }
   ],
   "source": [
    "plt.figure(figsize=(8, 8))\n",
    "sns.barplot(data[\"employmentLength\"].value_counts(dropna=False)[:20],\n",
    "            data[\"employmentLength\"].value_counts(dropna=False).keys()[:20])\n",
    "plt.show()"
   ]
  },
  {
   "cell_type": "markdown",
   "metadata": {},
   "source": [
    "## 与目标变量的交互分析 <a id = '4.2'>"
   ]
  },
  {
   "cell_type": "markdown",
   "metadata": {},
   "source": [
    "### 类别型变量与目标变量的交互分析 <a id = '4.2.1'>"
   ]
  },
  {
   "cell_type": "code",
   "execution_count": 44,
   "metadata": {},
   "outputs": [],
   "source": [
    "train_loan_fr = data.loc[data['isDefault'] == 1]\n",
    "train_loan_nofr = data.loc[data['isDefault'] == 0]"
   ]
  },
  {
   "cell_type": "code",
   "execution_count": 45,
   "metadata": {},
   "outputs": [
    {
     "data": {
      "image/png": "[encoded data removed]",
      "text/plain": [
       "<Figure size 1080x576 with 4 Axes>"
      ]
     },
     "metadata": {
      "needs_background": "light"
     },
     "output_type": "display_data"
    }
   ],
   "source": [
    "fig, ((ax1, ax2), (ax3, ax4)) = plt.subplots(2, 2, figsize=(15, 8))\n",
    "train_loan_fr.groupby('grade')['grade'].count().plot(kind='barh', ax=ax1, title='Count of grade fraud')\n",
    "train_loan_nofr.groupby('grade')['grade'].count().plot(kind='barh', ax=ax2, title='Count of grade non-fraud')\n",
    "train_loan_fr.groupby('employmentLength')['employmentLength'].count().plot(kind='barh', ax=ax3, title='Count of employmentLength fraud')\n",
    "train_loan_nofr.groupby('employmentLength')['employmentLength'].count().plot(kind='barh', ax=ax4, title='Count of employmentLength non-fraud')\n",
    "plt.show()"
   ]
  },
  {
   "cell_type": "markdown",
   "metadata": {},
   "source": [
    "### 连续型变量与目标变量的交互分析 <a id = '4.2.2'>"
   ]
  },
  {
   "cell_type": "code",
   "execution_count": 46,
   "metadata": {
    "scrolled": true
   },
   "outputs": [
    {
     "data": {
      "text/plain": [
       "<AxesSubplot:title={'center':'Log Loan Amt - Not Fraud'}, ylabel='Frequency'>"
      ]
     },
     "execution_count": 46,
     "metadata": {},
     "output_type": "execute_result"
    },
    {
     "data": {
      "image/png": "[encoded data removed]",
      "text/plain": [
       "<Figure size 1080x432 with 2 Axes>"
      ]
     },
     "metadata": {
      "needs_background": "light"
     },
     "output_type": "display_data"
    }
   ],
   "source": [
    "fig, ((ax1, ax2)) = plt.subplots(1, 2, figsize=(15, 6))\n",
    "data.loc[data['isDefault'] == 1] \\\n",
    "    ['loanAmnt'].apply(np.log) \\\n",
    "    .plot(kind='hist',\n",
    "          bins=100,\n",
    "          title='Log Loan Amt - Fraud',\n",
    "          color='r',\n",
    "          xlim=(-3, 10),\n",
    "         ax= ax1)\n",
    "data.loc[data['isDefault'] == 0] \\\n",
    "    ['loanAmnt'].apply(np.log) \\\n",
    "    .plot(kind='hist',\n",
    "          bins=100,\n",
    "          title='Log Loan Amt - Not Fraud',\n",
    "          color='b',\n",
    "          xlim=(-3, 10),\n",
    "         ax=ax2)"
   ]
  },
  {
   "cell_type": "markdown",
   "metadata": {},
   "source": [
    "# 总结 <a id = '5'>"
   ]
  },
  {
   "cell_type": "code",
   "execution_count": 48,
   "metadata": {},
   "outputs": [],
   "source": [
    "# 数据进行了一定的预处理，因此保存这个处理完的数据，后续在此基础上进行特征工程\n",
    "data.to_csv('train_EDA.csv')"
   ]
  },
  {
   "cell_type": "markdown",
   "metadata": {},
   "source": [
    "数据探索性分析是我们初步了解数据，熟悉数据为特征工程做准备的阶段，甚至很多时候EDA阶段提取出来的特征可以直接当作规则来用，可见EDA的重要性。\n",
    "\n",
    "这个阶段的主要工作还是借助于各个简单的统计量来对数据整体的了解，分析各个类型变量相互之间的关系，以及用合适的图形可视化出来直观观察，且只对一些特征进行了举例说明，没有详细分析各个特征，实际应该对特征进行更详细的分析。\n",
    "\n",
    "本节还进行了一定的数据预处理的工作，后续将进行更精细的数据分析与处理工作。"
   ]
  }
 ],
 "metadata": {
  "kernelspec": {
   "display_name": "Python 3 (ipykernel)",
   "language": "python",
   "name": "python3"
  },
  "language_info": {
   "codemirror_mode": {
    "name": "ipython",
    "version": 3
   },
   "file_extension": ".py",
   "mimetype": "text/x-python",
   "name": "python",
   "nbconvert_exporter": "python",
   "pygments_lexer": "ipython3",
   "version": "3.9.7"
  },
  "tianchi_metadata": {
   "competitions": [],
   "datasets": [
    {
     "id": "107537",
     "title": "零基础入门金融风控-贷款违约预测"
    }
   ],
   "description": "",
   "notebookId": "313523",
   "source": "dsw"
  },
  "toc-autonumbering": true,
  "widgets": {
   "application/vnd.jupyter.widget-state+json": {
    "state": {},
    "version_major": 2,
    "version_minor": 0
   }
  }
 },
 "nbformat": 4,
 "nbformat_minor": 4
}
