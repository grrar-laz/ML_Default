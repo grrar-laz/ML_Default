{
 "cells": [
  {
   "cell_type": "markdown",
   "metadata": {
    "tags": []
   },
   "source": [
    "# 介绍"
   ]
  },
  {
   "cell_type": "markdown",
   "metadata": {},
   "source": [
    "此部分介绍特征工程部分，带你来了解各种特征工程以及分析方法。\n",
    "\n",
    "**目的：**\n",
    "\n",
    "- 学习特征预处理、缺失值、异常值处理、数据分桶等特征处理方法\n",
    "- 学习特征交互、编码、选择的相应方法\n",
    "- 完成相应学习打卡任务，两个选做的作业不做强制性要求，供学有余力同学自己探索\n",
    "\n",
    "**主要内容：**\n",
    "\n",
    "- 数据预处理：\n",
    "  - 缺失值的填充\n",
    "  - 时间格式处理\n",
    "  - 对象类型特征转换到数值\n",
    "- 异常值处理：\n",
    "  - 基于3segama原则\n",
    "  - 基于分位数原则\n",
    "- 数据分箱\n",
    "  - 固定宽度分箱\n",
    "  - 分位数分箱\n",
    "  - 卡方分箱（选做作业）\n",
    "- 特征交互\n",
    "- 特征编码\n",
    "- 特征选择\n",
    "    - 1 Filter\n",
    "    - 2 Wrapper （RFE）\n",
    "    - 3 Embedded\n",
    "    \n",
    "**文件说明：**\n",
    "\n",
    "数据来源为“天池”的学习赛：*零基础入门金融风控-贷款违约预测*\n",
    "\n",
    "以下代码主要参考该比赛的开源代码\n",
    "\n",
    "比赛项目地址：https://tianchi.aliyun.com/competition/entrance/531830/forum\n",
    "\n",
    "开源地址：https://tianchi.aliyun.com/notebook-ai/detail?spm=5176.12586969.1002.9.3b3022faSpZmD0&postId=129321"
   ]
  },
  {
   "cell_type": "code",
   "execution_count": 1,
   "metadata": {},
   "outputs": [],
   "source": [
    "# 导入包\n",
    "import pandas as pd\n",
    "import numpy as np\n",
    "import matplotlib.pyplot as plt\n",
    "import seaborn as sns\n",
    "import datetime\n",
    "from tqdm import tqdm\n",
    "from sklearn.preprocessing import LabelEncoder\n",
    "from sklearn.feature_selection import SelectKBest\n",
    "from sklearn.feature_selection import chi2\n",
    "from sklearn.preprocessing import MinMaxScaler\n",
    "import xgboost as xgb\n",
    "import lightgbm as lgb\n",
    "from catboost import CatBoostRegressor\n",
    "import warnings\n",
    "from sklearn.model_selection import StratifiedKFold, KFold\n",
    "from sklearn.metrics import accuracy_score, f1_score, roc_auc_score, log_loss\n",
    "warnings.filterwarnings('ignore')"
   ]
  },
  {
   "cell_type": "code",
   "execution_count": 2,
   "metadata": {},
   "outputs": [],
   "source": [
    "# 读取经过EDA后的数据\n",
    "data =pd.read_csv('Data/train_EDA.csv',index_col = 0)"
   ]
  },
  {
   "cell_type": "markdown",
   "metadata": {},
   "source": [
    "# 特征预处理"
   ]
  },
  {
   "cell_type": "code",
   "execution_count": 3,
   "metadata": {},
   "outputs": [
    {
     "name": "stdout",
     "output_type": "stream",
     "text": [
      "<class 'pandas.core.frame.DataFrame'>\n",
      "Int64Index: 798823 entries, 0 to 799999\n",
      "Data columns (total 46 columns):\n",
      " #   Column               Non-Null Count   Dtype  \n",
      "---  ------               --------------   -----  \n",
      " 0   id                   798823 non-null  int64  \n",
      " 1   loanAmnt             798823 non-null  float64\n",
      " 2   term                 798823 non-null  int64  \n",
      " 3   interestRate         798823 non-null  float64\n",
      " 4   installment          798823 non-null  float64\n",
      " 5   grade                798823 non-null  object \n",
      " 6   subGrade             798823 non-null  object \n",
      " 7   employmentTitle      798823 non-null  float64\n",
      " 8   employmentLength     798823 non-null  object \n",
      " 9   homeOwnership        798823 non-null  int64  \n",
      " 10  annualIncome         798823 non-null  float64\n",
      " 11  verificationStatus   798823 non-null  int64  \n",
      " 12  isDefault            798823 non-null  int64  \n",
      " 13  purpose              798823 non-null  int64  \n",
      " 14  postCode             798823 non-null  float64\n",
      " 15  regionCode           798823 non-null  int64  \n",
      " 16  dti                  798823 non-null  float64\n",
      " 17  delinquency_2years   798823 non-null  float64\n",
      " 18  ficoRangeLow         798823 non-null  float64\n",
      " 19  ficoRangeHigh        798823 non-null  float64\n",
      " 20  openAcc              798823 non-null  float64\n",
      " 21  pubRec               798823 non-null  float64\n",
      " 22  pubRecBankruptcies   798823 non-null  float64\n",
      " 23  revolBal             798823 non-null  float64\n",
      " 24  revolUtil            798823 non-null  float64\n",
      " 25  totalAcc             798823 non-null  float64\n",
      " 26  initialListStatus    798823 non-null  int64  \n",
      " 27  applicationType      798823 non-null  int64  \n",
      " 28  title                798823 non-null  float64\n",
      " 29  n0                   798823 non-null  float64\n",
      " 30  n1                   798823 non-null  float64\n",
      " 31  n2                   798823 non-null  float64\n",
      " 32  n3                   798823 non-null  float64\n",
      " 33  n4                   798823 non-null  float64\n",
      " 34  n5                   798823 non-null  float64\n",
      " 35  n6                   798823 non-null  float64\n",
      " 36  n7                   798823 non-null  float64\n",
      " 37  n8                   798823 non-null  float64\n",
      " 38  n9                   798823 non-null  float64\n",
      " 39  n10                  798823 non-null  float64\n",
      " 40  n11                  798823 non-null  float64\n",
      " 41  n12                  798823 non-null  float64\n",
      " 42  n13                  798823 non-null  float64\n",
      " 43  n14                  798823 non-null  float64\n",
      " 44  issueDateDT          798823 non-null  int64  \n",
      " 45  earliesCreditLineDT  798823 non-null  int64  \n",
      "dtypes: float64(32), int64(11), object(3)\n",
      "memory usage: 286.4+ MB\n"
     ]
    }
   ],
   "source": [
    "# 在处理之前，我们需要对大概的数据有一个初步的观察。\n",
    "data.info()"
   ]
  },
  {
   "cell_type": "markdown",
   "metadata": {},
   "source": [
    "- 数据EDA部分我们已经对数据的大概和某些特征分布有了了解，并且做了一些预处理的工作，此处主要是查漏补缺\n",
    "\n",
    "之前我们已经对缺失值、时间格式等特征进行了处理，所以这里观察到并没有缺失，两个时间格式的特征也被我们处理成为了数值类型。\n",
    "\n",
    "但是数据集中仍然有`grade,subgrade,employmentLength`三个对象类型特征，需要对这类特征进行处理\n",
    "\n",
    "同时，在EDA过程中我们知道，有许多数值型特征是离散型特征，这类特征也需要处理\n",
    "\n",
    "**注意，在这里进行的处理方式只是一个简单的介绍，大概率不是最佳的，需要根据后续建模和实际需要对数据的处理进行调整**"
   ]
  },
  {
   "cell_type": "code",
   "execution_count": 5,
   "metadata": {},
   "outputs": [],
   "source": [
    "# 首先我们查找出数据中的对象特征和数值型特征\n",
    "numerical_fea = list(data.select_dtypes(exclude=['object']).columns)\n",
    "category_fea = list(data.select_dtypes(include=['object']).columns)\n",
    "label = 'isDefault' # isDefault 表示违约与否，是目标变量，不是特征\n",
    "numerical_fea.remove(label)"
   ]
  },
  {
   "cell_type": "markdown",
   "metadata": {},
   "source": [
    "## 对象类型特征处理"
   ]
  },
  {
   "cell_type": "code",
   "execution_count": 6,
   "metadata": {},
   "outputs": [],
   "source": [
    "# 对employmentLength进行处理，这个特征表示客户的工作年限，我们之前用Other填充了缺失，这里为了使用其工作年限当作数值。用-1填充Other\n",
    "def employmentLength_to_int(s):\n",
    "    if s == 'Other':\n",
    "        return -1\n",
    "    else:\n",
    "        return np.int8(s.split()[0])\n",
    "data['employmentLength'].replace(to_replace='10+ years', value='10 years', inplace=True)\n",
    "data['employmentLength'].replace('< 1 year', '0 years', inplace=True)\n",
    "data['employmentLength'] = data['employmentLength'].apply(employmentLength_to_int)"
   ]
  },
  {
   "cell_type": "code",
   "execution_count": 7,
   "metadata": {},
   "outputs": [
    {
     "data": {
      "text/plain": [
       "-1      46541\n",
       " 0      64071\n",
       " 1      52394\n",
       " 2      72264\n",
       " 3      64084\n",
       " 4      47930\n",
       " 5      50051\n",
       " 6      37210\n",
       " 7      35370\n",
       " 8      36152\n",
       " 9      30244\n",
       " 10    262512\n",
       "Name: employmentLength, dtype: int64"
      ]
     },
     "execution_count": 7,
     "metadata": {},
     "output_type": "execute_result"
    }
   ],
   "source": [
    "data['employmentLength'].value_counts(dropna=False).sort_index()"
   ]
  },
  {
   "cell_type": "markdown",
   "metadata": {},
   "source": [
    "`subgrade`与`grade`都是信用等级，首先观察有什么区别"
   ]
  },
  {
   "cell_type": "code",
   "execution_count": 9,
   "metadata": {},
   "outputs": [
    {
     "data": {
      "text/plain": [
       "<AxesSubplot:>"
      ]
     },
     "execution_count": 9,
     "metadata": {},
     "output_type": "execute_result"
    },
    {
     "data": {
      "image/png": "[encoded data removed]",
      "text/plain": [
       "<Figure size 1440x360 with 2 Axes>"
      ]
     },
     "metadata": {
      "needs_background": "light"
     },
     "output_type": "display_data"
    }
   ],
   "source": [
    "plt.figure(figsize = (20,5))\n",
    "ax1 = plt.subplot(1,2,1)\n",
    "data['grade'].value_counts().sort_index().plot(kind = 'bar',ax = ax1)\n",
    "ax2 = plt.subplot(1,2,2)\n",
    "data['subGrade'].value_counts().sort_index().plot(kind = 'bar',ax = ax2)"
   ]
  },
  {
   "cell_type": "markdown",
   "metadata": {},
   "source": [
    "可以看到grade的信息都在subGrade里面，因此grade与subGrade中，我们只需要保留subGrade就可以了。对于subGrade的处理可以进行OneHot编码"
   ]
  },
  {
   "cell_type": "code",
   "execution_count": 10,
   "metadata": {},
   "outputs": [],
   "source": [
    "data.drop(columns = 'grade',inplace = True)"
   ]
  },
  {
   "cell_type": "markdown",
   "metadata": {},
   "source": [
    "## 类别特征处理"
   ]
  },
  {
   "cell_type": "code",
   "execution_count": 11,
   "metadata": {},
   "outputs": [
    {
     "name": "stdout",
     "output_type": "stream",
     "text": [
      "subGrade 类型数： 35\n",
      "employmentTitle 类型数： 248264\n",
      "homeOwnership 类型数： 6\n",
      "verificationStatus 类型数： 3\n",
      "purpose 类型数： 14\n",
      "postCode 类型数： 932\n",
      "regionCode 类型数： 51\n",
      "applicationType 类型数： 2\n",
      "initialListStatus 类型数： 2\n",
      "title 类型数： 39368\n"
     ]
    }
   ],
   "source": [
    "# 部分类别特征\n",
    "cate_features = ['subGrade', 'employmentTitle', 'homeOwnership', 'verificationStatus', 'purpose', 'postCode', 'regionCode', \\\n",
    "                 'applicationType', 'initialListStatus', 'title']\n",
    "for f in cate_features:\n",
    "    print(f, '类型数：', data[f].nunique())"
   ]
  },
  {
   "cell_type": "markdown",
   "metadata": {},
   "source": [
    "有些特征从物理含义上应该是分类特征，例如employmentTitle，但是这类特征的类别数特别多，并且已经进行了数值转换，我们无法提取出原始信息进行特征构造，因此将这类特征当作数值连续型变量。"
   ]
  },
  {
   "cell_type": "code",
   "execution_count": 10,
   "metadata": {},
   "outputs": [],
   "source": [
    "# 类型数在2之上，维度不是特别大,且纯分类特征的进行OneHot编码\n",
    "data = pd.get_dummies(data, columns=['subGrade', 'homeOwnership', 'verificationStatus', 'purpose', 'regionCode'], drop_first=True)"
   ]
  },
  {
   "cell_type": "markdown",
   "metadata": {},
   "source": [
    "# 异常值处理\n",
    "- 当你发现异常值后，一定要先分清是什么原因导致的异常值，然后再考虑如何处理。\n",
    "    - 如果这一异常值并不代表一种规律性的，而是极其偶然的现象，或者说你并不想研究这种偶然的现象，这时可以将其删除。\n",
    "    - 如果异常值存在且代表了一种真实存在的现象，那就不能随便删除。在现有的欺诈场景中很多时候欺诈数据本身相对于正常数据勒说就是异常的，我们要把这些异常点纳入，重新拟合模型，研究其规律。能用监督的用监督模型，不能用的还可以考虑用异常检测的算法来做。"
   ]
  },
  {
   "cell_type": "markdown",
   "metadata": {},
   "source": [
    "**有两种比较基础的异常值的检测办法：**\n",
    "\n",
    "1. 三倍标准差法：在统计学中，如果一个数据分布近似正态，在均值三个标准差范围外的数据值可以当作异常值。\n",
    "2. 四分位数法：对数据划分四分位数，超过上四分位1.5倍四分位距或低于下四分位1.5倍四分位距的数值被认为是异常值。"
   ]
  },
  {
   "cell_type": "markdown",
   "metadata": {},
   "source": [
    "## 三倍标准差法"
   ]
  },
  {
   "attachments": {
    "650de082-9d64-4bb8-9b13-134ab682f468.png": {
     "image/png": "[encoded data removed]"
    }
   },
   "cell_type": "markdown",
   "metadata": {},
   "source": [
    "![image.png](attachment:650de082-9d64-4bb8-9b13-134ab682f468.png)"
   ]
  },
  {
   "cell_type": "markdown",
   "metadata": {},
   "source": [
    "在上图中，如果一个数据服从正态分布，那么数据超过均值上下三倍标准差的概率为0.3%（单边概率），则可以认为是小概率事件，即异常值。\n",
    "\n",
    "下面的代码说明了如何观察是否存在异常值"
   ]
  },
  {
   "cell_type": "code",
   "execution_count": 25,
   "metadata": {},
   "outputs": [],
   "source": [
    "def find_outliers_by_3segama(data, fea):\n",
    "    \"\"\"\n",
    "    根据3倍标准差的方法寻找异常值\n",
    "    ---------------------------\n",
    "    params：\n",
    "    data：寻找异常值的数据\n",
    "    fea：寻找异常值的特征名\n",
    "    \"\"\"\n",
    "    mean = data[fea].mean()\n",
    "    std = data[fea].std()\n",
    "    up_limit = mean+3*std\n",
    "    bottom_limit = mean-3*std\n",
    "    print(f\"正常值的范围：{round(bottom_limit,4),round(up_limit,4)}\")\n",
    "    print(\"是否存在超出正常范围的值：\", any(data[fea] > up_limit))\n",
    "    print(\"是否存在小于正常范围的值：\", any(data[fea] < bottom_limit))"
   ]
  },
  {
   "cell_type": "markdown",
   "metadata": {},
   "source": [
    "- 得到特征的异常值后可以进一步分析变量异常值和目标变量的关系"
   ]
  },
  {
   "cell_type": "code",
   "execution_count": 26,
   "metadata": {},
   "outputs": [],
   "source": [
    "numerical_fea = list(data.select_dtypes(exclude=['object']).columns)"
   ]
  },
  {
   "cell_type": "code",
   "execution_count": 27,
   "metadata": {
    "scrolled": true,
    "tags": []
   },
   "outputs": [
    {
     "name": "stdout",
     "output_type": "stream",
     "text": [
      "id 的异常值检查：\n",
      "正常值的范围：(-292846.6665, 1092817.0209)\n",
      "是否存在超出正常范围的值： False\n",
      "是否存在小于正常范围的值： False\n",
      "------------------------------\n",
      "loanAmnt 的异常值检查：\n",
      "正常值的范围：(-11724.1125, 40563.5989)\n",
      "是否存在超出正常范围的值： False\n",
      "是否存在小于正常范围的值： False\n",
      "------------------------------\n",
      "term 的异常值检查：\n",
      "正常值的范围：(0.9151, 6.0509)\n",
      "是否存在超出正常范围的值： False\n",
      "是否存在小于正常范围的值： False\n",
      "------------------------------\n",
      "interestRate 的异常值检查：\n",
      "正常值的范围：(-1.0592, 27.5354)\n",
      "是否存在超出正常范围的值： True\n",
      "是否存在小于正常范围的值： False\n",
      "------------------------------\n",
      "installment 的异常值检查：\n",
      "正常值的范围：(-346.2093, 1222.2518)\n",
      "是否存在超出正常范围的值： True\n",
      "是否存在小于正常范围的值： False\n",
      "------------------------------\n",
      "employmentTitle 的异常值检查：\n",
      "正常值的范围：(-247712.6497, 391601.9093)\n",
      "是否存在超出正常范围的值： False\n",
      "是否存在小于正常范围的值： False\n",
      "------------------------------\n",
      "employmentLength 的异常值检查：\n",
      "正常值的范围：(-6.2447, 17.366)\n",
      "是否存在超出正常范围的值： False\n",
      "是否存在小于正常范围的值： False\n",
      "------------------------------\n",
      "homeOwnership 的异常值检查：\n",
      "正常值的范围：(-1.4129, 2.6412)\n",
      "是否存在超出正常范围的值： True\n",
      "是否存在小于正常范围的值： False\n",
      "------------------------------\n",
      "annualIncome 的异常值检查：\n",
      "正常值的范围：(-130335.6784, 282627.5807)\n",
      "是否存在超出正常范围的值： True\n",
      "是否存在小于正常范围的值： False\n",
      "------------------------------\n",
      "verificationStatus 的异常值检查：\n",
      "正常值的范围：(-1.3371, 3.358)\n",
      "是否存在超出正常范围的值： False\n",
      "是否存在小于正常范围的值： False\n",
      "------------------------------\n",
      "isDefault 的异常值检查：\n",
      "正常值的范围：(-0.9994, 1.3984)\n",
      "是否存在超出正常范围的值： False\n",
      "是否存在小于正常范围的值： False\n",
      "------------------------------\n",
      "purpose 的异常值检查：\n",
      "正常值的范围：(-5.3538, 8.8437)\n",
      "是否存在超出正常范围的值： True\n",
      "是否存在小于正常范围的值： False\n",
      "------------------------------\n",
      "postCode 的异常值检查：\n",
      "正常值的范围：(-341.5697, 858.6432)\n",
      "是否存在超出正常范围的值： True\n",
      "是否存在小于正常范围的值： False\n",
      "------------------------------\n",
      "regionCode 的异常值检查：\n",
      "正常值的范围：(-16.7253, 49.4957)\n",
      "是否存在超出正常范围的值： True\n",
      "是否存在小于正常范围的值： False\n",
      "------------------------------\n",
      "dti 的异常值检查：\n",
      "正常值的范围：(-15.1639, 51.7453)\n",
      "是否存在超出正常范围的值： True\n",
      "是否存在小于正常范围的值： False\n",
      "------------------------------\n",
      "delinquency_2years 的异常值检查：\n",
      "正常值的范围：(-2.3222, 2.9585)\n",
      "是否存在超出正常范围的值： True\n",
      "是否存在小于正常范围的值： False\n",
      "------------------------------\n",
      "ficoRangeLow 的异常值检查：\n",
      "正常值的范围：(600.6326, 791.7343)\n",
      "是否存在超出正常范围的值： True\n",
      "是否存在小于正常范围的值： False\n",
      "------------------------------\n",
      "ficoRangeHigh 的异常值检查：\n",
      "正常值的范围：(604.6308, 795.7364)\n",
      "是否存在超出正常范围的值： True\n",
      "是否存在小于正常范围的值： False\n",
      "------------------------------\n",
      "openAcc 的异常值检查：\n",
      "正常值的范围：(-4.8148, 28.0239)\n",
      "是否存在超出正常范围的值： True\n",
      "是否存在小于正常范围的值： False\n",
      "------------------------------\n",
      "pubRec 的异常值检查：\n",
      "正常值的范围：(-1.6053, 2.0355)\n",
      "是否存在超出正常范围的值： True\n",
      "是否存在小于正常范围的值： False\n",
      "------------------------------\n",
      "pubRecBankruptcies 的异常值检查：\n",
      "正常值的范围：(-0.9985, 1.267)\n",
      "是否存在超出正常范围的值： True\n",
      "是否存在小于正常范围的值： False\n",
      "------------------------------\n",
      "revolBal 的异常值检查：\n",
      "正常值的范围：(-51112.8464, 83582.7637)\n",
      "是否存在超出正常范围的值： True\n",
      "是否存在小于正常范围的值： False\n",
      "------------------------------\n",
      "revolUtil 的异常值检查：\n",
      "正常值的范围：(-21.7371, 125.3332)\n",
      "是否存在超出正常范围的值： True\n",
      "是否存在小于正常范围的值： False\n",
      "------------------------------\n",
      "totalAcc 的异常值检查：\n",
      "正常值的范围：(-10.9881, 61.0028)\n",
      "是否存在超出正常范围的值： True\n",
      "是否存在小于正常范围的值： False\n",
      "------------------------------\n",
      "initialListStatus 的异常值检查：\n",
      "正常值的范围：(-1.0623, 1.8957)\n",
      "是否存在超出正常范围的值： False\n",
      "是否存在小于正常范围的值： False\n",
      "------------------------------\n",
      "applicationType 的异常值检查：\n",
      "正常值的范围：(-0.3902, 0.4281)\n",
      "是否存在超出正常范围的值： True\n",
      "是否存在小于正常范围的值： False\n",
      "------------------------------\n",
      "title 的异常值检查：\n",
      "正常值的范围：(-22059.7335, 25555.3184)\n",
      "是否存在超出正常范围的值： True\n",
      "是否存在小于正常范围的值： False\n",
      "------------------------------\n",
      "n0 的异常值检查：\n",
      "正常值的范围：(-3.3859, 4.4094)\n",
      "是否存在超出正常范围的值： True\n",
      "是否存在小于正常范围的值： False\n",
      "------------------------------\n",
      "n1 的异常值检查：\n",
      "正常值的范围：(-2.9228, 10.2123)\n",
      "是否存在超出正常范围的值： True\n",
      "是否存在小于正常范围的值： False\n",
      "------------------------------\n",
      "n2 的异常值检查：\n",
      "正常值的范围：(-4.0069, 15.2996)\n",
      "是否存在超出正常范围的值： True\n",
      "是否存在小于正常范围的值： False\n",
      "------------------------------\n",
      "n3 的异常值检查：\n",
      "正常值的范围：(-4.0069, 15.2996)\n",
      "是否存在超出正常范围的值： True\n",
      "是否存在小于正常范围的值： False\n",
      "------------------------------\n",
      "n4 的异常值检查：\n",
      "正常值的范围：(-3.9243, 13.4018)\n",
      "是否存在超出正常范围的值： True\n",
      "是否存在小于正常范围的值： False\n",
      "------------------------------\n",
      "n5 的异常值检查：\n",
      "正常值的范围：(-5.9237, 22.1453)\n",
      "是否存在超出正常范围的值： True\n",
      "是否存在小于正常范围的值： False\n",
      "------------------------------\n",
      "n6 的异常值检查：\n",
      "正常值的范围：(-13.0649, 30.2172)\n",
      "是否存在超出正常范围的值： True\n",
      "是否存在小于正常范围的值： False\n",
      "------------------------------\n",
      "n7 的异常值检查：\n",
      "正常值的范围：(-5.0437, 21.62)\n",
      "是否存在超出正常范围的值： True\n",
      "是否存在小于正常范围的值： False\n",
      "------------------------------\n",
      "n8 的异常值检查：\n",
      "正常值的范围：(-9.131, 38.3864)\n",
      "是否存在超出正常范围的值： True\n",
      "是否存在小于正常范围的值： False\n",
      "------------------------------\n",
      "n9 的异常值检查：\n",
      "正常值的范围：(-3.8037, 14.9957)\n",
      "是否存在超出正常范围的值： True\n",
      "是否存在小于正常范围的值： False\n",
      "------------------------------\n",
      "n10 的异常值检查：\n",
      "正常值的范围：(-4.4566, 27.7549)\n",
      "是否存在超出正常范围的值： True\n",
      "是否存在小于正常范围的值： False\n",
      "------------------------------\n",
      "n11 的异常值检查：\n",
      "正常值的范围：(-0.0854, 0.0871)\n",
      "是否存在超出正常范围的值： True\n",
      "是否存在小于正常范围的值： False\n",
      "------------------------------\n",
      "n12 的异常值检查：\n",
      "正常值的范围：(-0.1781, 0.1848)\n",
      "是否存在超出正常范围的值： True\n",
      "是否存在小于正常范围的值： False\n",
      "------------------------------\n",
      "n13 的异常值检查：\n",
      "正常值的范围：(-1.3988, 1.5774)\n",
      "是否存在超出正常范围的值： True\n",
      "是否存在小于正常范围的值： False\n",
      "------------------------------\n",
      "n14 的异常值检查：\n",
      "正常值的范围：(-3.2141, 7.573)\n",
      "是否存在超出正常范围的值： True\n",
      "是否存在小于正常范围的值： False\n",
      "------------------------------\n",
      "issueDateDT 的异常值检查：\n",
      "正常值的范围：(-4162.6143, -636.2933)\n",
      "是否存在超出正常范围的值： False\n",
      "是否存在小于正常范围的值： True\n",
      "------------------------------\n",
      "earliesCreditLineDT 的异常值检查：\n",
      "正常值的范围：(-16678.0416, -3.4914)\n",
      "是否存在超出正常范围的值： False\n",
      "是否存在小于正常范围的值： True\n",
      "------------------------------\n"
     ]
    }
   ],
   "source": [
    "for fea in numerical_fea:\n",
    "    print(f\"{fea} 的异常值检查：\")\n",
    "    find_outliers_by_3segama(data,fea)\n",
    "    print(\"-\"*30)"
   ]
  },
  {
   "cell_type": "markdown",
   "metadata": {},
   "source": [
    "## 四分位法"
   ]
  },
  {
   "attachments": {
    "ede730a6-0572-4a6e-98be-2121e1c21bf4.png": {
     "image/png": "[encoded data removed]"
    }
   },
   "cell_type": "markdown",
   "metadata": {},
   "source": [
    "![image.png](attachment:ede730a6-0572-4a6e-98be-2121e1c21bf4.png)"
   ]
  },
  {
   "cell_type": "markdown",
   "metadata": {},
   "source": [
    "四分位距就是上四分位数到下四分位数的距离。\n",
    "\n",
    "具体方法如下：其中Q3代表上四分位数，Q1代表下四分位数，k代表系数，可以取值1.5或3。\n",
    "\n",
    "- 最大值估计= Q3+k（Q3-Q1)\n",
    "- 最小值估计= Q1-k(Q3-Q1)\n",
    "\n",
    ">当k=3时，代表极度异常值；\n",
    "\n",
    ">当k=1.5时，代表中度异常值。\n",
    "\n",
    "一般采用k=1.5"
   ]
  },
  {
   "cell_type": "code",
   "execution_count": 29,
   "metadata": {},
   "outputs": [],
   "source": [
    "def find_outliers_by_quantile(data, fea):\n",
    "    \"\"\"\n",
    "    根据分位数的方法寻找异常值\n",
    "    ---------------------------\n",
    "    params：\n",
    "    data：寻找异常值的数据\n",
    "    fea：寻找异常值的特征名\n",
    "    \"\"\"\n",
    "    Q1 = data[fea].quantile(q=0.25)#下四分位差\n",
    "    Q3 = data[fea].quantile(q=0.75)#上四分位差\n",
    "    Q_distance = Q3-Q1#中位差\n",
    "    up_limit = Q3+1.5*Q_distance\n",
    "    bottom_limit = Q1-1.5*Q_distance\n",
    "    print(f\"正常值的范围：{round(bottom_limit,4),round(up_limit,4)}\")\n",
    "    print(\"是否存在超出正常范围的值：\", any(data[fea] > up_limit))\n",
    "    print(\"是否存在小于正常范围的值：\", any(data[fea] < bottom_limit))"
   ]
  },
  {
   "cell_type": "code",
   "execution_count": 31,
   "metadata": {
    "scrolled": true,
    "tags": []
   },
   "outputs": [
    {
     "name": "stdout",
     "output_type": "stream",
     "text": [
      "id 的异常值检查：\n",
      "正常值的范围：(-400030.5, 1200009.5)\n",
      "是否存在超出正常范围的值： False\n",
      "是否存在小于正常范围的值： False\n",
      "------------------------------\n",
      "loanAmnt 的异常值检查：\n",
      "正常值的范围：(-10000.0, 38000.0)\n",
      "是否存在超出正常范围的值： True\n",
      "是否存在小于正常范围的值： False\n",
      "------------------------------\n",
      "term 的异常值检查：\n",
      "正常值的范围：(3.0, 3.0)\n",
      "是否存在超出正常范围的值： True\n",
      "是否存在小于正常范围的值： False\n",
      "------------------------------\n",
      "interestRate 的异常值检查：\n",
      "正常值的范围：(0.39, 25.35)\n",
      "是否存在超出正常范围的值： True\n",
      "是否存在小于正常范围的值： False\n",
      "------------------------------\n",
      "installment 的异常值检查：\n",
      "正常值的范围：(-249.895, 1079.105)\n",
      "是否存在超出正常范围的值： True\n",
      "是否存在小于正常范围的值： False\n",
      "------------------------------\n",
      "employmentTitle 的异常值检查：\n",
      "正常值的范围：(-175066.25, 292915.75)\n",
      "是否存在超出正常范围的值： True\n",
      "是否存在小于正常范围的值： False\n",
      "------------------------------\n",
      "employmentLength 的异常值检查：\n",
      "正常值的范围：(-10.0, 22.0)\n",
      "是否存在超出正常范围的值： False\n",
      "是否存在小于正常范围的值： False\n",
      "------------------------------\n",
      "homeOwnership 的异常值检查：\n",
      "正常值的范围：(-1.5, 2.5)\n",
      "是否存在超出正常范围的值： True\n",
      "是否存在小于正常范围的值： False\n",
      "------------------------------\n",
      "annualIncome 的异常值检查：\n",
      "正常值的范围：(-20965.0, 156579.0)\n",
      "是否存在超出正常范围的值： True\n",
      "是否存在小于正常范围的值： False\n",
      "------------------------------\n",
      "verificationStatus 的异常值检查：\n",
      "正常值的范围：(-3.0, 5.0)\n",
      "是否存在超出正常范围的值： False\n",
      "是否存在小于正常范围的值： False\n",
      "------------------------------\n",
      "isDefault 的异常值检查：\n",
      "正常值的范围：(0.0, 0.0)\n",
      "是否存在超出正常范围的值： True\n",
      "是否存在小于正常范围的值： False\n",
      "------------------------------\n",
      "purpose 的异常值检查：\n",
      "正常值的范围：(-6.0, 10.0)\n",
      "是否存在超出正常范围的值： True\n",
      "是否存在小于正常范围的值： False\n",
      "------------------------------\n",
      "postCode 的异常值检查：\n",
      "正常值的范围：(-335.0, 833.0)\n",
      "是否存在超出正常范围的值： True\n",
      "是否存在小于正常范围的值： False\n",
      "------------------------------\n",
      "regionCode 的异常值检查：\n",
      "正常值的范围：(-13.0, 43.0)\n",
      "是否存在超出正常范围的值： True\n",
      "是否存在小于正常范围的值： False\n",
      "------------------------------\n",
      "dti 的异常值检查：\n",
      "正常值的范围：(-6.59, 42.45)\n",
      "是否存在超出正常范围的值： True\n",
      "是否存在小于正常范围的值： False\n",
      "------------------------------\n",
      "delinquency_2years 的异常值检查：\n",
      "正常值的范围：(0.0, 0.0)\n",
      "是否存在超出正常范围的值： True\n",
      "是否存在小于正常范围的值： False\n",
      "------------------------------\n",
      "ficoRangeLow 的异常值检查：\n",
      "正常值的范围：(610.0, 770.0)\n",
      "是否存在超出正常范围的值： True\n",
      "是否存在小于正常范围的值： False\n",
      "------------------------------\n",
      "ficoRangeHigh 的异常值检查：\n",
      "正常值的范围：(614.0, 774.0)\n",
      "是否存在超出正常范围的值： True\n",
      "是否存在小于正常范围的值： False\n",
      "------------------------------\n",
      "openAcc 的异常值检查：\n",
      "正常值的范围：(-1.0, 23.0)\n",
      "是否存在超出正常范围的值： True\n",
      "是否存在小于正常范围的值： False\n",
      "------------------------------\n",
      "pubRec 的异常值检查：\n",
      "正常值的范围：(0.0, 0.0)\n",
      "是否存在超出正常范围的值： True\n",
      "是否存在小于正常范围的值： False\n",
      "------------------------------\n",
      "pubRecBankruptcies 的异常值检查：\n",
      "正常值的范围：(0.0, 0.0)\n",
      "是否存在超出正常范围的值： True\n",
      "是否存在小于正常范围的值： False\n",
      "------------------------------\n",
      "revolBal 的异常值检查：\n",
      "正常值的范围：(-14727.5, 40420.5)\n",
      "是否存在超出正常范围的值： True\n",
      "是否存在小于正常范围的值： False\n",
      "------------------------------\n",
      "revolUtil 的异常值检查：\n",
      "正常值的范围：(-22.3, 126.5)\n",
      "是否存在超出正常范围的值： True\n",
      "是否存在小于正常范围的值： False\n",
      "------------------------------\n",
      "totalAcc 的异常值检查：\n",
      "正常值的范围：(-8.0, 56.0)\n",
      "是否存在超出正常范围的值： True\n",
      "是否存在小于正常范围的值： False\n",
      "------------------------------\n",
      "initialListStatus 的异常值检查：\n",
      "正常值的范围：(-1.5, 2.5)\n",
      "是否存在超出正常范围的值： False\n",
      "是否存在小于正常范围的值： False\n",
      "------------------------------\n",
      "applicationType 的异常值检查：\n",
      "正常值的范围：(0.0, 0.0)\n",
      "是否存在超出正常范围的值： True\n",
      "是否存在小于正常范围的值： False\n",
      "------------------------------\n",
      "title 的异常值检查：\n",
      "正常值的范围：(-7.5, 12.5)\n",
      "是否存在超出正常范围的值： True\n",
      "是否存在小于正常范围的值： False\n",
      "------------------------------\n",
      "n0 的异常值检查：\n",
      "正常值的范围：(-0.7676, 1.2794)\n",
      "是否存在超出正常范围的值： True\n",
      "是否存在小于正常范围的值： False\n",
      "------------------------------\n",
      "n1 的异常值检查：\n",
      "正常值的范围：(-2.5, 9.5)\n",
      "是否存在超出正常范围的值： True\n",
      "是否存在小于正常范围的值： False\n",
      "------------------------------\n",
      "n2 的异常值检查：\n",
      "正常值的范围：(-3.0, 13.0)\n",
      "是否存在超出正常范围的值： True\n",
      "是否存在小于正常范围的值： False\n",
      "------------------------------\n",
      "n3 的异常值检查：\n",
      "正常值的范围：(-3.0, 13.0)\n",
      "是否存在超出正常范围的值： True\n",
      "是否存在小于正常范围的值： False\n",
      "------------------------------\n",
      "n4 的异常值检查：\n",
      "正常值的范围：(-1.5, 10.5)\n",
      "是否存在超出正常范围的值： True\n",
      "是否存在小于正常范围的值： False\n",
      "------------------------------\n",
      "n5 的异常值检查：\n",
      "正常值的范围：(-2.5, 17.5)\n",
      "是否存在超出正常范围的值： True\n",
      "是否存在小于正常范围的值： False\n",
      "------------------------------\n",
      "n6 的异常值检查：\n",
      "正常值的范围：(-6.5, 21.5)\n",
      "是否存在超出正常范围的值： True\n",
      "是否存在小于正常范围的值： False\n",
      "------------------------------\n",
      "n7 的异常值检查：\n",
      "正常值的范围：(-2.5, 17.5)\n",
      "是否存在超出正常范围的值： True\n",
      "是否存在小于正常范围的值： False\n",
      "------------------------------\n",
      "n8 的异常值检查：\n",
      "正常值的范围：(-4.5, 31.5)\n",
      "是否存在超出正常范围的值： True\n",
      "是否存在小于正常范围的值： False\n",
      "------------------------------\n",
      "n9 的异常值检查：\n",
      "正常值的范围：(-3.0, 13.0)\n",
      "是否存在超出正常范围的值： True\n",
      "是否存在小于正常范围的值： False\n",
      "------------------------------\n",
      "n10 的异常值检查：\n",
      "正常值的范围：(-1.0, 23.0)\n",
      "是否存在超出正常范围的值： True\n",
      "是否存在小于正常范围的值： False\n",
      "------------------------------\n",
      "n11 的异常值检查：\n",
      "正常值的范围：(0.0, 0.0)\n",
      "是否存在超出正常范围的值： True\n",
      "是否存在小于正常范围的值： False\n",
      "------------------------------\n",
      "n12 的异常值检查：\n",
      "正常值的范围：(0.0, 0.0)\n",
      "是否存在超出正常范围的值： True\n",
      "是否存在小于正常范围的值： False\n",
      "------------------------------\n",
      "n13 的异常值检查：\n",
      "正常值的范围：(0.0, 0.0)\n",
      "是否存在超出正常范围的值： True\n",
      "是否存在小于正常范围的值： False\n",
      "------------------------------\n",
      "n14 的异常值检查：\n",
      "正常值的范围：(-2.0, 6.0)\n",
      "是否存在超出正常范围的值： True\n",
      "是否存在小于正常范围的值： False\n",
      "------------------------------\n",
      "issueDateDT 的异常值检查：\n",
      "正常值的范围：(-3837.5, -913.5)\n",
      "是否存在超出正常范围的值： False\n",
      "是否存在小于正常范围的值： True\n",
      "------------------------------\n",
      "earliesCreditLineDT 的异常值检查：\n",
      "正常值的范围：(-14795.5, -1399.5)\n",
      "是否存在超出正常范围的值： False\n",
      "是否存在小于正常范围的值： True\n",
      "------------------------------\n"
     ]
    }
   ],
   "source": [
    "for fea in numerical_fea:\n",
    "    print(f\"{fea} 的异常值检查：\")\n",
    "    find_outliers_by_quantile(data,fea)\n",
    "    print(\"-\"*30)"
   ]
  },
  {
   "cell_type": "markdown",
   "metadata": {},
   "source": [
    ">**请自行找资料思考存在异常值应该要怎么处理？**"
   ]
  },
  {
   "cell_type": "markdown",
   "metadata": {},
   "source": [
    "# 数据分桶"
   ]
  },
  {
   "cell_type": "markdown",
   "metadata": {},
   "source": [
    "- 特征分箱的目的：\n",
    "  - 从模型效果上来看，特征分箱主要是为了降低变量的复杂性，减少变量噪音对模型的影响，提高自变量和因变量的相关度。从而使模型更加稳定。\n",
    "- 数据分桶的对象：\n",
    "  - 将连续变量离散化\n",
    "  - 将多状态的离散变量合并成少状态\n",
    "- 分箱的原因：\n",
    "  - 数据的特征内的值跨度可能比较大，对有监督和无监督中如k-均值聚类它使用欧氏距离作为相似度函数来测量数据点之间的相似度。都会造成大吃小的影响，其中一种解决方法是对计数值进行区间量化即数据分桶也叫做数据分箱，然后使用量化后的结果。\n",
    "- 分箱的优点：\n",
    "  - 处理缺失值：当数据源可能存在缺失值，此时可以把null单独作为一个分箱。\n",
    "  - 处理异常值：当数据中存在离群点时，可以把其通过分箱离散化处理，从而提高变量的鲁棒性（抗干扰能力）。例如，age若出现200这种异常值，可分入“age > 60”这个分箱里，排除影响。\n",
    "  - 业务解释性：我们习惯于线性判断变量的作用，当x越来越大，y就越来越大。但实际x与y之间经常存在着非线性关系，此时可经过WOE变换。\n",
    "\n",
    "- 特别要注意一下分箱的基本原则：\n",
    "  - （1）最小分箱占比不低于5%\n",
    "  - （2）箱内不能全部是好客户\n",
    "  - （3）连续箱单调"
   ]
  },
  {
   "cell_type": "markdown",
   "metadata": {},
   "source": [
    "## 固定宽度分箱 \n",
    "\n",
    "- 当数值的数量级不大时，可以按照等距分箱，即0 ~ 1000、 1001 ~ 2000、 2001 ~ 3000等\n",
    "- 当数值横跨多个数量级时，最好按照 10 的幂（或任何常数的幂）来进行分组：0 ~ 9、10 ~ 99、100 ~ 999、1000 ~ 9999，等等。\n",
    "\n",
    "固定宽度分箱非常容易计算，但如果计数值中有比较大的缺口，就会产生很多没有任何数据的空箱子。"
   ]
  },
  {
   "cell_type": "code",
   "execution_count": 39,
   "metadata": {},
   "outputs": [],
   "source": [
    "# 通过除法映射到间隔均匀的分箱中，每个分箱的取值范围都是loanAmnt/1000\n",
    "data['loanAmnt_bin1'] = np.floor_divide(data['loanAmnt'], 1000)"
   ]
  },
  {
   "cell_type": "code",
   "execution_count": 42,
   "metadata": {},
   "outputs": [],
   "source": [
    "## 通过对数函数映射到指数宽度分箱\n",
    "data['loanAmnt_bin2'] = np.floor(np.log10(data['loanAmnt']))"
   ]
  },
  {
   "cell_type": "markdown",
   "metadata": {},
   "source": [
    "## 分位数分箱"
   ]
  },
  {
   "cell_type": "markdown",
   "metadata": {},
   "source": [
    "分位数分箱是尽量使得每个箱子的数据大致一样，这样会尽量减少空箱子的数量，但是可能会改变数据的分布"
   ]
  },
  {
   "cell_type": "code",
   "execution_count": 47,
   "metadata": {},
   "outputs": [],
   "source": [
    "data['loanAmnt_bin3'] = pd.qcut(data['loanAmnt'], 5, labels=False)"
   ]
  },
  {
   "cell_type": "code",
   "execution_count": 41,
   "metadata": {
    "scrolled": true,
    "tags": []
   },
   "outputs": [
    {
     "data": {
      "text/plain": [
       "0.0         1\n",
       "1.0     10694\n",
       "2.0     16923\n",
       "3.0     24505\n",
       "4.0     26802\n",
       "5.0     43616\n",
       "6.0     42699\n",
       "7.0     34173\n",
       "8.0     43687\n",
       "9.0     27726\n",
       "10.0    72462\n",
       "11.0    19594\n",
       "12.0    54229\n",
       "13.0    15701\n",
       "14.0    23789\n",
       "15.0    49447\n",
       "16.0    30071\n",
       "17.0    11891\n",
       "18.0    24705\n",
       "19.0    11103\n",
       "20.0    47344\n",
       "21.0    14779\n",
       "22.0     9314\n",
       "23.0     6058\n",
       "24.0    23052\n",
       "25.0    23408\n",
       "26.0     4259\n",
       "27.0     4401\n",
       "28.0    13825\n",
       "29.0     3084\n",
       "30.0    18613\n",
       "31.0     2107\n",
       "32.0     4999\n",
       "33.0     2379\n",
       "34.0     1571\n",
       "35.0    30423\n",
       "36.0      901\n",
       "37.0      181\n",
       "38.0      208\n",
       "39.0      110\n",
       "40.0     3989\n",
       "Name: loanAmnt_bin1, dtype: int64"
      ]
     },
     "execution_count": 41,
     "metadata": {},
     "output_type": "execute_result"
    }
   ],
   "source": [
    "data['loanAmnt_bin1'].value_counts().sort_index()"
   ]
  },
  {
   "cell_type": "code",
   "execution_count": 43,
   "metadata": {},
   "outputs": [
    {
     "data": {
      "text/plain": [
       "2.0         1\n",
       "3.0    270825\n",
       "4.0    527997\n",
       "Name: loanAmnt_bin2, dtype: int64"
      ]
     },
     "execution_count": 43,
     "metadata": {},
     "output_type": "execute_result"
    }
   ],
   "source": [
    "data['loanAmnt_bin2'].value_counts().sort_index()"
   ]
  },
  {
   "cell_type": "code",
   "execution_count": 48,
   "metadata": {},
   "outputs": [
    {
     "data": {
      "text/plain": [
       "0    160820\n",
       "1    168983\n",
       "2    168378\n",
       "3    142714\n",
       "4    157928\n",
       "Name: loanAmnt_bin3, dtype: int64"
      ]
     },
     "execution_count": 48,
     "metadata": {},
     "output_type": "execute_result"
    }
   ],
   "source": [
    "data['loanAmnt_bin3'].value_counts().sort_index()"
   ]
  },
  {
   "cell_type": "markdown",
   "metadata": {},
   "source": [
    "从上面三个分箱来看，等距分箱中存在过多箱子或箱子很少，需要人为更精细的调整，分位数分箱较为均匀，但是可能不符合原本的分布"
   ]
  },
  {
   "cell_type": "markdown",
   "metadata": {},
   "source": [
    "## 其他分箱方法\n",
    " - 这一部分属于进阶部分，是实际中较为常用的方法（包括卡方分箱、WOE分箱等），可以自行搜索尝试。"
   ]
  },
  {
   "cell_type": "markdown",
   "metadata": {},
   "source": [
    "# 特征交互\n",
    "- 交互特征的构造非常简单，使用起来却代价不菲。如果线性模型中包含有交互特征对，那它的训练时间和评分时间就会从 $O(n)$ 增加到 $O(n^2)$，其中 n 是单一特征的数量。"
   ]
  },
  {
   "cell_type": "code",
   "execution_count": 53,
   "metadata": {},
   "outputs": [],
   "source": [
    "# 衍生变量 mean 和 std\n",
    "for item in ['n0','n1','n2','n3','n4','n5','n6','n7','n8','n9','n10','n11','n12','n13','n14']:\n",
    "    data['loanAmnt_to_mean_' + item] = data['loanAmnt'] / data.groupby([item])['loanAmnt'].transform('mean')\n",
    "    data['loanAmnt_to_std_' + item] = data['loanAmnt'] / data.groupby([item])['loanAmnt'].transform('std')"
   ]
  },
  {
   "cell_type": "markdown",
   "metadata": {
    "jp-MarkdownHeadingCollapsed": true,
    "tags": []
   },
   "source": [
    "这里给出了一个特征交互的思路，将n系列的各个特征与loanAmnt进行交互，上述的思路是在不同的n系列下的特征值下计算loanAmnt的均值,然后对原始的loanAmnt进行去中心化\n",
    "\n",
    "这里只是进行特征交互的展示，这里构建的特征并不具备现实意义，但是实际应该根据现实意义进行特征构建，或者能够有效的提升模型效果，这需要专业的业务知识与不断的尝试，希望大家多多探索。\n",
    "\n",
    "同时特征交互的方式也不止这一种方法，尝试其他的特征交互方法"
   ]
  },
  {
   "cell_type": "markdown",
   "metadata": {},
   "source": [
    "# 特征编码\n"
   ]
  },
  {
   "cell_type": "markdown",
   "metadata": {},
   "source": [
    "## labelEncode"
   ]
  },
  {
   "cell_type": "code",
   "execution_count": 65,
   "metadata": {},
   "outputs": [
    {
     "name": "stderr",
     "output_type": "stream",
     "text": [
      "100%|███████████████████████████████████████████████████████████████████████████████████████████████████████████████████████████████████████████████████████████████████████████████████████████████████████████████████████████████████| 4/4 [00:06<00:00,  1.58s/it]"
     ]
    },
    {
     "name": "stdout",
     "output_type": "stream",
     "text": [
      "Label Encoding 完成\n"
     ]
    },
    {
     "name": "stderr",
     "output_type": "stream",
     "text": [
      "\n"
     ]
    }
   ],
   "source": [
    "#label-encode:subGrade,postCode,title\n",
    "# 高维类别特征需要进行转换\n",
    "for col in tqdm(['employmentTitle', 'postCode', 'title','subGrade']):\n",
    "    le = LabelEncoder()\n",
    "    le.fit(list(data[col].astype(str).values))\n",
    "    data[col] = le.transform(list(data[col].astype(str).values))\n",
    "print('Label Encoding 完成')"
   ]
  },
  {
   "cell_type": "markdown",
   "metadata": {},
   "source": [
    "这里只是一个简单的特征编码，将所有的特征值从0开始进行编码。这样的做法非常简单，但是不一定是最有效的，而且可能存在一定的问题。\n",
    "\n",
    "例如对postCode进行编码，postCode的含义是邮编地址。假如对‘A’邮编编码为1，对‘B’邮编编码为2，那么在线性模型中，‘B’邮编对目标变量的影响是‘A’的两倍，这很明显不符合逻辑。尽管在非线性模型中，这类影响会降低，但是这样仍然可能存在一定的问题。\n",
    "\n",
    "**请大家查找资料，探索还有什么编码方式并实现（例如OneHot、WOE等）**"
   ]
  },
  {
   "cell_type": "markdown",
   "metadata": {},
   "source": [
    "# 特征选择\n",
    "- 特征选择技术可以精简掉无用的特征，以降低最终模型的复杂性，它的最终目的是得到一个简约模型，在不降低预测准确率或对预测准确率影响不大的情况下提高计算速度。特征选择不是为了减少训练时间（实际上，一些技术会增加总体训练时间），而是为了减少模型评分时间。\n",
    "\n",
    "特征选择的方法：\n",
    "\n",
    "- 1 Filter\n",
    "  - 方差选择法\n",
    "  - 相关系数法（pearson 相关系数）\n",
    "  - 卡方检验\n",
    "  - 互信息法\n",
    "- 2 Wrapper （RFE）\n",
    "  - 递归特征消除法\n",
    "- 3 Embedded\n",
    "  - 基于惩罚项的特征选择法\n",
    "  - 基于树模型的特征选择"
   ]
  },
  {
   "cell_type": "markdown",
   "metadata": {},
   "source": [
    "## Filter\n",
    "- 基于特征间的关系进行筛选"
   ]
  },
  {
   "cell_type": "markdown",
   "metadata": {},
   "source": [
    "### 方差选择法\n",
    "- 方差选择法中，先要计算各个特征的方差，然后根据设定的阈值，选择方差大于阈值的特征"
   ]
  },
  {
   "cell_type": "code",
   "execution_count": 67,
   "metadata": {},
   "outputs": [],
   "source": [
    "train = data.drop(columns = ['isDefault']).copy()\n",
    "target_train = data['isDefault'].copy()"
   ]
  },
  {
   "cell_type": "code",
   "execution_count": 101,
   "metadata": {},
   "outputs": [],
   "source": [
    "train.fillna(train.mean(),inplace = True)"
   ]
  },
  {
   "cell_type": "code",
   "execution_count": 102,
   "metadata": {},
   "outputs": [],
   "source": [
    "from sklearn.feature_selection import VarianceThreshold\n",
    "#其中参数threshold为方差的阈值,方差小于该阈值的特征会被删除\n",
    "vat = VarianceThreshold(threshold=3)\n",
    "var_train = vat.fit_transform(train)"
   ]
  },
  {
   "cell_type": "code",
   "execution_count": 103,
   "metadata": {},
   "outputs": [
    {
     "data": {
      "text/plain": [
       "array(['id', 'loanAmnt', 'interestRate', 'installment', 'subGrade',\n",
       "       'employmentTitle', 'employmentLength', 'annualIncome', 'purpose',\n",
       "       'postCode', 'regionCode', 'dti', 'ficoRangeLow', 'ficoRangeHigh',\n",
       "       'openAcc', 'revolBal', 'revolUtil', 'totalAcc', 'title', 'n1',\n",
       "       'n2', 'n3', 'n4', 'n5', 'n6', 'n7', 'n8', 'n9', 'n10', 'n14',\n",
       "       'issueDateDT', 'earliesCreditLineDT', 'loanAmnt_bin1'],\n",
       "      dtype=object)"
      ]
     },
     "execution_count": 103,
     "metadata": {},
     "output_type": "execute_result"
    }
   ],
   "source": [
    "# 根据方差选择了以下特征\n",
    "vat.get_feature_names_out(train.columns)"
   ]
  },
  {
   "cell_type": "markdown",
   "metadata": {},
   "source": [
    "**这里只是做一个简单说明，其它的选择方法还包括卡方选择、相关系数选择、互信息选择等等许多其它选择方法，大家可以自行搜索资料并实现**"
   ]
  },
  {
   "cell_type": "markdown",
   "metadata": {
    "tags": []
   },
   "source": [
    "## Wrapper \n",
    "- 递归特征消除法（Recursive feature elimination，RFE） 递归消除特征法使用一个基模型来进行多轮训练，每轮训练后，消除若干权值系数的特征，再基于新的特征集进行下一轮训练。 在feature_selection库的RFE类可以用于选择特征，相关代码如下（以逻辑回归为例）："
   ]
  },
  {
   "cell_type": "code",
   "execution_count": 125,
   "metadata": {
    "collapsed": true,
    "jupyter": {
     "outputs_hidden": true
    },
    "tags": []
   },
   "outputs": [
    {
     "name": "stderr",
     "output_type": "stream",
     "text": [
      "/root/anaconda3/lib/python3.9/site-packages/sklearn/linear_model/_logistic.py:814: ConvergenceWarning: lbfgs failed to converge (status=1):\n",
      "STOP: TOTAL NO. of ITERATIONS REACHED LIMIT.\n",
      "\n",
      "Increase the number of iterations (max_iter) or scale the data as shown in:\n",
      "    https://scikit-learn.org/stable/modules/preprocessing.html\n",
      "Please also refer to the documentation for alternative solver options:\n",
      "    https://scikit-learn.org/stable/modules/linear_model.html#logistic-regression\n",
      "  n_iter_i = _check_optimize_result(\n",
      "/root/anaconda3/lib/python3.9/site-packages/sklearn/linear_model/_logistic.py:814: ConvergenceWarning: lbfgs failed to converge (status=1):\n",
      "STOP: TOTAL NO. of ITERATIONS REACHED LIMIT.\n",
      "\n",
      "Increase the number of iterations (max_iter) or scale the data as shown in:\n",
      "    https://scikit-learn.org/stable/modules/preprocessing.html\n",
      "Please also refer to the documentation for alternative solver options:\n",
      "    https://scikit-learn.org/stable/modules/linear_model.html#logistic-regression\n",
      "  n_iter_i = _check_optimize_result(\n",
      "/root/anaconda3/lib/python3.9/site-packages/sklearn/linear_model/_logistic.py:814: ConvergenceWarning: lbfgs failed to converge (status=1):\n",
      "STOP: TOTAL NO. of ITERATIONS REACHED LIMIT.\n",
      "\n",
      "Increase the number of iterations (max_iter) or scale the data as shown in:\n",
      "    https://scikit-learn.org/stable/modules/preprocessing.html\n",
      "Please also refer to the documentation for alternative solver options:\n",
      "    https://scikit-learn.org/stable/modules/linear_model.html#logistic-regression\n",
      "  n_iter_i = _check_optimize_result(\n"
     ]
    }
   ],
   "source": [
    "from sklearn.feature_selection import RFE\n",
    "from sklearn.linear_model import LogisticRegression\n",
    "#递归特征消除法，返回特征选择后的数据\n",
    "#参数estimator为基模型\n",
    "#参数n_features_to_select为选择的特征个数\n",
    "\n",
    "recuresive_fea = RFE(estimator=LogisticRegression(n_jobs = 4), n_features_to_select=30,step = 0.5)\n",
    "rfe_train = recuresive_fea.fit_transform(train,target_train)"
   ]
  },
  {
   "cell_type": "code",
   "execution_count": 126,
   "metadata": {},
   "outputs": [
    {
     "data": {
      "text/plain": [
       "array(['loanAmnt', 'term', 'interestRate', 'installment', 'subGrade',\n",
       "       'employmentLength', 'annualIncome', 'verificationStatus',\n",
       "       'postCode', 'regionCode', 'dti', 'ficoRangeLow', 'ficoRangeHigh',\n",
       "       'revolBal', 'revolUtil', 'totalAcc', 'title', 'n0', 'n1', 'n2',\n",
       "       'n3', 'n5', 'n6', 'n7', 'n8', 'n9', 'n14', 'issueDateDT',\n",
       "       'earliesCreditLineDT', 'loanAmnt_bin2'], dtype=object)"
      ]
     },
     "execution_count": 126,
     "metadata": {},
     "output_type": "execute_result"
    }
   ],
   "source": [
    "recuresive_fea.get_feature_names_out(train.columns)"
   ]
  },
  {
   "cell_type": "markdown",
   "metadata": {},
   "source": [
    "## Embedded\n",
    "- 基于惩罚项的特征选择法 使用带惩罚项的基模型，除了筛选出特征外，同时也进行了降维。 在feature_selection库的SelectFromModel类结合逻辑回归模型可以用于选择特征，相关代码如下：\n"
   ]
  },
  {
   "cell_type": "code",
   "execution_count": 137,
   "metadata": {},
   "outputs": [],
   "source": [
    "from sklearn.feature_selection import SelectFromModel\n",
    "from sklearn.linear_model import LogisticRegression\n",
    "#带L1惩罚项的逻辑回归作为基模型的特征选择\n",
    "embed_fea = SelectFromModel(LogisticRegression(penalty=\"l1\", C=0.1,solver='saga'))\n",
    "\n",
    "embed_train = embed_fea.fit_transform(train,target_train)"
   ]
  },
  {
   "cell_type": "code",
   "execution_count": 138,
   "metadata": {},
   "outputs": [
    {
     "data": {
      "text/plain": [
       "array(['loanAmnt', 'ficoRangeLow', 'ficoRangeHigh', 'issueDateDT',\n",
       "       'earliesCreditLineDT'], dtype=object)"
      ]
     },
     "execution_count": 138,
     "metadata": {},
     "output_type": "execute_result"
    }
   ],
   "source": [
    "embed_fea.get_feature_names_out(train.columns)"
   ]
  },
  {
   "cell_type": "markdown",
   "metadata": {},
   "source": [
    "- 除了逻辑回归以外还可以基于树模型的特征选择 在feature_selection库的SelectFromModel类结合GBDT模型可以用于选择特征，相关代码如下："
   ]
  },
  {
   "cell_type": "code",
   "execution_count": 139,
   "metadata": {},
   "outputs": [],
   "source": [
    "from sklearn.feature_selection import SelectFromModel\n",
    "from sklearn.ensemble import GradientBoostingClassifier\n",
    "#GBDT作为基模型的特征选择\n",
    "\n",
    "embed_GBDT_fea = SelectFromModel(GradientBoostingClassifier())\n",
    "embed_train = embed_GBDT_fea.fit_transform(train,target_train)"
   ]
  },
  {
   "cell_type": "code",
   "execution_count": 140,
   "metadata": {},
   "outputs": [
    {
     "data": {
      "text/plain": [
       "array(['term', 'subGrade', 'employmentLength', 'homeOwnership',\n",
       "       'annualIncome', 'dti', 'issueDateDT'], dtype=object)"
      ]
     },
     "execution_count": 140,
     "metadata": {},
     "output_type": "execute_result"
    }
   ],
   "source": [
    "embed_GBDT_fea.get_feature_names_out(train.columns)"
   ]
  },
  {
   "cell_type": "markdown",
   "metadata": {},
   "source": [
    "可以看到根据不同的模型选择的特征不一样，因此需要根据自己的数据、模型和实际情况进行分析。"
   ]
  },
  {
   "cell_type": "markdown",
   "metadata": {},
   "source": [
    "# 总结"
   ]
  },
  {
   "cell_type": "markdown",
   "metadata": {},
   "source": [
    "特征工程是机器学习，甚至是深度学习中最为重要的一部分，在实际应用中往往也是所花费时间最多的一步。各种算法书中对特征工程部分的讲解往往少得可怜，因为特征工程和具体的数据结合的太紧密，很难系统地覆盖所有场景。\n",
    "\n",
    "这里也只是简单介绍了一些主要的、基本的方法，除了这里的介绍以外还有很多的方法需要大家自行学习。在特征工程中比赛和具体的应用还是有所不同的，在实际的金融风控评分卡制作过程中，由于强调特征的可解释性，特征分箱尤其重要。但是如果在比赛中，最终只考察分数的大小，因此不看重可解释性，因此实际业务中需要更详细的、更贴合实际的特征工程。"
   ]
  }
 ],
 "metadata": {
  "kernelspec": {
   "display_name": "Python 3 (ipykernel)",
   "language": "python",
   "name": "python3"
  },
  "language_info": {
   "codemirror_mode": {
    "name": "ipython",
    "version": 3
   },
   "file_extension": ".py",
   "mimetype": "text/x-python",
   "name": "python",
   "nbconvert_exporter": "python",
   "pygments_lexer": "ipython3",
   "version": "3.9.7"
  },
  "tianchi_metadata": {
   "competitions": [],
   "datasets": [],
   "description": "",
   "notebookId": "115249",
   "source": "dsw"
  },
  "toc-autonumbering": true,
  "widgets": {
   "application/vnd.jupyter.widget-state+json": {
    "state": {},
    "version_major": 2,
    "version_minor": 0
   }
  }
 },
 "nbformat": 4,
 "nbformat_minor": 4
}
